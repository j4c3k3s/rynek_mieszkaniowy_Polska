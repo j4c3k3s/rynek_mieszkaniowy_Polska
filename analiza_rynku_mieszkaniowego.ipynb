{
 "cells": [
  {
   "cell_type": "markdown",
   "metadata": {},
   "source": [
    "### RYNEK MIESZKANIOWY - POLSKA, szybka analiza cen\n",
    "ŹRÓDŁO DANYCH: NBP"
   ]
  },
  {
   "cell_type": "markdown",
   "metadata": {},
   "source": [
    "###### Opis zmiennych"
   ]
  },
  {
   "cell_type": "markdown",
   "metadata": {},
   "source": [
    "RYNEK: 'pierwotny', 'wtórny'\n",
    "\n",
    "CENY: 'ofertowe', 'transakcyjne'\n",
    "\n",
    "MIASTA: ['Białystok', 'Bydgoszcz', 'Gdańsk', 'Gdynia', 'Katowice', 'Kielce', 'Kraków', 'Lublin', 'Łódź', 'Olsztyn', 'Opole', 'Poznań', 'Rzeszów', 'Szczecin', 'Warszawa', 'Wrocław', 'Zielona Góra', '7 miast', '10 miast', '6 miast bez Warszawy']\n",
    "\n",
    "(7 miast =  Gdańsk, Gdynia, Łódź, Kraków, Poznań, Szczecin, Wrocław, Warszawa)\n"
   ]
  },
  {
   "cell_type": "markdown",
   "metadata": {},
   "source": [
    "###### Wybór zmiennych"
   ]
  },
  {
   "cell_type": "code",
   "execution_count": 18,
   "metadata": {},
   "outputs": [],
   "source": [
    "# z opcji przedstawionych powyżej\n",
    "RYNEK = 'pierwotny'\n",
    "CENY = 'transakcyjne'\n",
    "MIASTA = ['Warszawa', 'Gdańsk', 'Lublin', '7 miast', '6 miast bez Warszawy']"
   ]
  },
  {
   "cell_type": "markdown",
   "metadata": {},
   "source": [
    "###### Import i czyszczenie danych"
   ]
  },
  {
   "cell_type": "code",
   "execution_count": 19,
   "metadata": {},
   "outputs": [],
   "source": [
    "#import bibliotek\n",
    "import pandas as pd\n",
    "import plotly.express as px\n",
    "from plotly.subplots import make_subplots\n",
    "import plotly.graph_objects as go"
   ]
  },
  {
   "cell_type": "code",
   "execution_count": 20,
   "metadata": {},
   "outputs": [],
   "source": [
    "#słownik do importu\n",
    "imp_dict = {'pierwotny': {'s_name':'Rynek pierwotny', 'row_start': 5, 'cols': {'ofertowe':'A:U', 'transakcyjne':'X:AR'}},\n",
    "            'wtórny': {'s_name':'Rynek wtórny', 'row_start': 5, 'cols': {'ofertowe':'A:U', 'transakcyjne':'X:AR'}}}"
   ]
  },
  {
   "cell_type": "code",
   "execution_count": 31,
   "metadata": {},
   "outputs": [],
   "source": [
    "#import danych NBP\n",
    "SCIEZKA_DANE_NBP = './dane/ceny_mieszkan.xls'\n",
    "dane_nbp_raw = pd.read_excel(SCIEZKA_DANE_NBP,\n",
    "                             sheet_name = imp_dict[RYNEK]['s_name'],\n",
    "                             skiprows = range(imp_dict[RYNEK]['row_start']), header = 1, usecols = imp_dict[RYNEK]['cols'][CENY])\n",
    "dane = dane_nbp_raw.copy()\n",
    "dane.columns = [_col.split('.')[0] for _col in dane.columns]\n",
    "dane = dane.set_index('Kwartał').apply(lambda x: round(x, 0))\n",
    "dane = dane.reset_index()\n",
    "dane = dane[['Kwartał'] + MIASTA]\n",
    "#ustalenie dynamik\n",
    "dane_dyn = dane.copy().set_index('Kwartał')\n",
    "dane_dyn = ((dane_dyn/dane_dyn.shift(4)-1).dropna()*100).apply(lambda x: round(x, 2))\n",
    "dane_dyn.reset_index(inplace = True)\n",
    "# dane_dyn.tail()"
   ]
  },
  {
   "cell_type": "code",
   "execution_count": 32,
   "metadata": {},
   "outputs": [
    {
     "data": {
      "application/javascript": [
       "IPython.OutputArea.auto_scroll_threshold = 9999\n"
      ],
      "text/plain": [
       "<IPython.core.display.Javascript object>"
      ]
     },
     "metadata": {},
     "output_type": "display_data"
    }
   ],
   "source": [
    "%%javascript\n",
    "IPython.OutputArea.auto_scroll_threshold = 9999"
   ]
  },
  {
   "cell_type": "markdown",
   "metadata": {},
   "source": [
    "###### Ceny za 1 metr kwadratowy"
   ]
  },
  {
   "cell_type": "code",
   "execution_count": 33,
   "metadata": {},
   "outputs": [
    {
     "data": {
      "application/vnd.plotly.v1+json": {
       "config": {
        "plotlyServerURL": "https://plot.ly"
       },
       "data": [
        {
         "hovertemplate": "variable=Warszawa<br>Kwartał=%{x}<br>value=%{y}<extra></extra>",
         "legendgroup": "Warszawa",
         "line": {
          "color": "#636efa",
          "dash": "solid"
         },
         "mode": "lines",
         "name": "Warszawa",
         "orientation": "v",
         "showlegend": true,
         "type": "scatter",
         "x": [
          "III 2006",
          "IV 2006",
          "I 2007",
          "II 2007",
          "III 2007",
          "IV 2007",
          "I 2008",
          "II 2008",
          "III 2008",
          "IV 2008",
          "I 2009",
          "II 2009",
          "III 2009",
          "IV 2009",
          "I 2010",
          "II 2010",
          "III 2010",
          "IV 2010",
          "I 2011",
          "II 2011",
          "III 2011",
          "IV 2011",
          "I 2012",
          "II 2012",
          "III 2012",
          "IV 2012",
          "I 2013",
          "II 2013",
          "III 2013",
          "IV 2013",
          "I 2014",
          "II 2014",
          "III 2014",
          "IV 2014",
          "I 2015",
          "II 2015",
          "III 2015",
          "IV 2015",
          "I 2016",
          "II 2016",
          "III 2016",
          "IV 2016",
          "I 2017",
          "II 2017",
          "III 2017",
          "IV 2017",
          "I 2018",
          "II 2018",
          "III 2018",
          "IV 2018",
          "I 2019",
          "II 2019",
          "III 2019",
          "IV 2019",
          "I 2020"
         ],
         "xaxis": "x",
         "y": [
          5605,
          6186,
          7302,
          7523,
          7879,
          8571,
          8535,
          8611,
          8325,
          8149,
          7543,
          7461,
          7585,
          7680,
          8173,
          7974,
          7940,
          7441,
          8037,
          7527,
          7423,
          7226,
          6967,
          7043,
          6757,
          6466,
          6990,
          7018,
          7173,
          7427,
          7298,
          7316,
          7446,
          7315,
          7396,
          7510,
          7557,
          7462,
          7639,
          7583,
          7696,
          7686,
          7562,
          7683,
          7820,
          7751,
          7965,
          8183,
          8538,
          8565,
          8771,
          8932,
          9188,
          9476,
          9819
         ],
         "yaxis": "y"
        },
        {
         "hovertemplate": "variable=Gdańsk<br>Kwartał=%{x}<br>value=%{y}<extra></extra>",
         "legendgroup": "Gdańsk",
         "line": {
          "color": "#EF553B",
          "dash": "solid"
         },
         "mode": "lines",
         "name": "Gdańsk",
         "orientation": "v",
         "showlegend": true,
         "type": "scatter",
         "x": [
          "III 2006",
          "IV 2006",
          "I 2007",
          "II 2007",
          "III 2007",
          "IV 2007",
          "I 2008",
          "II 2008",
          "III 2008",
          "IV 2008",
          "I 2009",
          "II 2009",
          "III 2009",
          "IV 2009",
          "I 2010",
          "II 2010",
          "III 2010",
          "IV 2010",
          "I 2011",
          "II 2011",
          "III 2011",
          "IV 2011",
          "I 2012",
          "II 2012",
          "III 2012",
          "IV 2012",
          "I 2013",
          "II 2013",
          "III 2013",
          "IV 2013",
          "I 2014",
          "II 2014",
          "III 2014",
          "IV 2014",
          "I 2015",
          "II 2015",
          "III 2015",
          "IV 2015",
          "I 2016",
          "II 2016",
          "III 2016",
          "IV 2016",
          "I 2017",
          "II 2017",
          "III 2017",
          "IV 2017",
          "I 2018",
          "II 2018",
          "III 2018",
          "IV 2018",
          "I 2019",
          "II 2019",
          "III 2019",
          "IV 2019",
          "I 2020"
         ],
         "xaxis": "x",
         "y": [
          3494,
          5252,
          5490,
          7137,
          7440,
          6294,
          6473,
          7740,
          7042,
          6193,
          5309,
          5907,
          5804,
          5476,
          5839,
          5678,
          5272,
          5216,
          5692,
          5661,
          5479,
          5506,
          5594,
          5604,
          5555,
          5336,
          5292,
          5682,
          5794,
          6155,
          5501,
          5977,
          5805,
          5785,
          5951,
          5749,
          6089,
          6031,
          6452,
          6185,
          6283,
          6481,
          6430,
          6501,
          6816,
          6829,
          7255,
          7543,
          7257,
          7915,
          8262,
          8288,
          8534,
          8585,
          8741
         ],
         "yaxis": "y"
        },
        {
         "hovertemplate": "variable=Lublin<br>Kwartał=%{x}<br>value=%{y}<extra></extra>",
         "legendgroup": "Lublin",
         "line": {
          "color": "#00cc96",
          "dash": "solid"
         },
         "mode": "lines",
         "name": "Lublin",
         "orientation": "v",
         "showlegend": true,
         "type": "scatter",
         "x": [
          "III 2006",
          "IV 2006",
          "I 2007",
          "II 2007",
          "III 2007",
          "IV 2007",
          "I 2008",
          "II 2008",
          "III 2008",
          "IV 2008",
          "I 2009",
          "II 2009",
          "III 2009",
          "IV 2009",
          "I 2010",
          "II 2010",
          "III 2010",
          "IV 2010",
          "I 2011",
          "II 2011",
          "III 2011",
          "IV 2011",
          "I 2012",
          "II 2012",
          "III 2012",
          "IV 2012",
          "I 2013",
          "II 2013",
          "III 2013",
          "IV 2013",
          "I 2014",
          "II 2014",
          "III 2014",
          "IV 2014",
          "I 2015",
          "II 2015",
          "III 2015",
          "IV 2015",
          "I 2016",
          "II 2016",
          "III 2016",
          "IV 2016",
          "I 2017",
          "II 2017",
          "III 2017",
          "IV 2017",
          "I 2018",
          "II 2018",
          "III 2018",
          "IV 2018",
          "I 2019",
          "II 2019",
          "III 2019",
          "IV 2019",
          "I 2020"
         ],
         "xaxis": "x",
         "y": [
          3022,
          3304,
          3309,
          3503,
          4125,
          4597,
          4861,
          4531,
          5073,
          5217,
          4746,
          4693,
          4437,
          4830,
          4495,
          4535,
          4821,
          4819,
          4896,
          4827,
          5133,
          4644,
          4935,
          4906,
          4864,
          4699,
          4679,
          4943,
          4770,
          4796,
          4643,
          4917,
          4843,
          4967,
          4920,
          4980,
          5017,
          4913,
          4995,
          5035,
          4976,
          5212,
          5095,
          4953,
          5243,
          5093,
          5473,
          5479,
          5545,
          5785,
          5874,
          5852,
          6158,
          5977,
          5974
         ],
         "yaxis": "y"
        },
        {
         "hovertemplate": "variable=7 miast<br>Kwartał=%{x}<br>value=%{y}<extra></extra>",
         "legendgroup": "7 miast",
         "line": {
          "color": "#ab63fa",
          "dash": "solid"
         },
         "mode": "lines",
         "name": "7 miast",
         "orientation": "v",
         "showlegend": true,
         "type": "scatter",
         "x": [
          "III 2006",
          "IV 2006",
          "I 2007",
          "II 2007",
          "III 2007",
          "IV 2007",
          "I 2008",
          "II 2008",
          "III 2008",
          "IV 2008",
          "I 2009",
          "II 2009",
          "III 2009",
          "IV 2009",
          "I 2010",
          "II 2010",
          "III 2010",
          "IV 2010",
          "I 2011",
          "II 2011",
          "III 2011",
          "IV 2011",
          "I 2012",
          "II 2012",
          "III 2012",
          "IV 2012",
          "I 2013",
          "II 2013",
          "III 2013",
          "IV 2013",
          "I 2014",
          "II 2014",
          "III 2014",
          "IV 2014",
          "I 2015",
          "II 2015",
          "III 2015",
          "IV 2015",
          "I 2016",
          "II 2016",
          "III 2016",
          "IV 2016",
          "I 2017",
          "II 2017",
          "III 2017",
          "IV 2017",
          "I 2018",
          "II 2018",
          "III 2018",
          "IV 2018",
          "I 2019",
          "II 2019",
          "III 2019",
          "IV 2019",
          "I 2020"
         ],
         "xaxis": "x",
         "y": [
          3591,
          5369,
          6499,
          6785,
          7065,
          8064,
          7539,
          6725,
          7383,
          7023,
          6626,
          6522,
          6502,
          6629,
          6842,
          6785,
          6684,
          6564,
          6869,
          6789,
          6686,
          6487,
          6208,
          6299,
          6104,
          5931,
          6031,
          6166,
          6227,
          6314,
          6196,
          6252,
          6317,
          6213,
          6307,
          6352,
          6486,
          6458,
          6523,
          6520,
          6578,
          6662,
          6576,
          6687,
          6874,
          6829,
          6980,
          7128,
          7340,
          7525,
          7674,
          7863,
          8020,
          8223,
          8506
         ],
         "yaxis": "y"
        },
        {
         "hovertemplate": "variable=6 miast bez Warszawy<br>Kwartał=%{x}<br>value=%{y}<extra></extra>",
         "legendgroup": "6 miast bez Warszawy",
         "line": {
          "color": "#FFA15A",
          "dash": "solid"
         },
         "mode": "lines",
         "name": "6 miast bez Warszawy",
         "orientation": "v",
         "showlegend": true,
         "type": "scatter",
         "x": [
          "III 2006",
          "IV 2006",
          "I 2007",
          "II 2007",
          "III 2007",
          "IV 2007",
          "I 2008",
          "II 2008",
          "III 2008",
          "IV 2008",
          "I 2009",
          "II 2009",
          "III 2009",
          "IV 2009",
          "I 2010",
          "II 2010",
          "III 2010",
          "IV 2010",
          "I 2011",
          "II 2011",
          "III 2011",
          "IV 2011",
          "I 2012",
          "II 2012",
          "III 2012",
          "IV 2012",
          "I 2013",
          "II 2013",
          "III 2013",
          "IV 2013",
          "I 2014",
          "II 2014",
          "III 2014",
          "IV 2014",
          "I 2015",
          "II 2015",
          "III 2015",
          "IV 2015",
          "I 2016",
          "II 2016",
          "III 2016",
          "IV 2016",
          "I 2017",
          "II 2017",
          "III 2017",
          "IV 2017",
          "I 2018",
          "II 2018",
          "III 2018",
          "IV 2018",
          "I 2019",
          "II 2019",
          "III 2019",
          "IV 2019",
          "I 2020"
         ],
         "xaxis": "x",
         "y": [
          4231,
          4923,
          6121,
          6610,
          6605,
          6754,
          6937,
          6666,
          6879,
          6396,
          6114,
          6002,
          5901,
          6048,
          6103,
          6123,
          5985,
          6076,
          6220,
          6380,
          6276,
          6072,
          5805,
          5884,
          5739,
          5631,
          5482,
          5682,
          5679,
          5664,
          5599,
          5685,
          5700,
          5605,
          5694,
          5707,
          5893,
          5886,
          5889,
          5917,
          5951,
          6074,
          6027,
          6131,
          6345,
          6314,
          6431,
          6539,
          6673,
          6937,
          7056,
          7265,
          7365,
          7525,
          7765
         ],
         "yaxis": "y"
        }
       ],
       "layout": {
        "hovermode": "x unified",
        "legend": {
         "title": {
          "text": "Legenda"
         },
         "tracegroupgap": 0
        },
        "margin": {
         "t": 60
        },
        "template": {
         "data": {
          "bar": [
           {
            "error_x": {
             "color": "#2a3f5f"
            },
            "error_y": {
             "color": "#2a3f5f"
            },
            "marker": {
             "line": {
              "color": "#E5ECF6",
              "width": 0.5
             }
            },
            "type": "bar"
           }
          ],
          "barpolar": [
           {
            "marker": {
             "line": {
              "color": "#E5ECF6",
              "width": 0.5
             }
            },
            "type": "barpolar"
           }
          ],
          "carpet": [
           {
            "aaxis": {
             "endlinecolor": "#2a3f5f",
             "gridcolor": "white",
             "linecolor": "white",
             "minorgridcolor": "white",
             "startlinecolor": "#2a3f5f"
            },
            "baxis": {
             "endlinecolor": "#2a3f5f",
             "gridcolor": "white",
             "linecolor": "white",
             "minorgridcolor": "white",
             "startlinecolor": "#2a3f5f"
            },
            "type": "carpet"
           }
          ],
          "choropleth": [
           {
            "colorbar": {
             "outlinewidth": 0,
             "ticks": ""
            },
            "type": "choropleth"
           }
          ],
          "contour": [
           {
            "colorbar": {
             "outlinewidth": 0,
             "ticks": ""
            },
            "colorscale": [
             [
              0,
              "#0d0887"
             ],
             [
              0.1111111111111111,
              "#46039f"
             ],
             [
              0.2222222222222222,
              "#7201a8"
             ],
             [
              0.3333333333333333,
              "#9c179e"
             ],
             [
              0.4444444444444444,
              "#bd3786"
             ],
             [
              0.5555555555555556,
              "#d8576b"
             ],
             [
              0.6666666666666666,
              "#ed7953"
             ],
             [
              0.7777777777777778,
              "#fb9f3a"
             ],
             [
              0.8888888888888888,
              "#fdca26"
             ],
             [
              1,
              "#f0f921"
             ]
            ],
            "type": "contour"
           }
          ],
          "contourcarpet": [
           {
            "colorbar": {
             "outlinewidth": 0,
             "ticks": ""
            },
            "type": "contourcarpet"
           }
          ],
          "heatmap": [
           {
            "colorbar": {
             "outlinewidth": 0,
             "ticks": ""
            },
            "colorscale": [
             [
              0,
              "#0d0887"
             ],
             [
              0.1111111111111111,
              "#46039f"
             ],
             [
              0.2222222222222222,
              "#7201a8"
             ],
             [
              0.3333333333333333,
              "#9c179e"
             ],
             [
              0.4444444444444444,
              "#bd3786"
             ],
             [
              0.5555555555555556,
              "#d8576b"
             ],
             [
              0.6666666666666666,
              "#ed7953"
             ],
             [
              0.7777777777777778,
              "#fb9f3a"
             ],
             [
              0.8888888888888888,
              "#fdca26"
             ],
             [
              1,
              "#f0f921"
             ]
            ],
            "type": "heatmap"
           }
          ],
          "heatmapgl": [
           {
            "colorbar": {
             "outlinewidth": 0,
             "ticks": ""
            },
            "colorscale": [
             [
              0,
              "#0d0887"
             ],
             [
              0.1111111111111111,
              "#46039f"
             ],
             [
              0.2222222222222222,
              "#7201a8"
             ],
             [
              0.3333333333333333,
              "#9c179e"
             ],
             [
              0.4444444444444444,
              "#bd3786"
             ],
             [
              0.5555555555555556,
              "#d8576b"
             ],
             [
              0.6666666666666666,
              "#ed7953"
             ],
             [
              0.7777777777777778,
              "#fb9f3a"
             ],
             [
              0.8888888888888888,
              "#fdca26"
             ],
             [
              1,
              "#f0f921"
             ]
            ],
            "type": "heatmapgl"
           }
          ],
          "histogram": [
           {
            "marker": {
             "colorbar": {
              "outlinewidth": 0,
              "ticks": ""
             }
            },
            "type": "histogram"
           }
          ],
          "histogram2d": [
           {
            "colorbar": {
             "outlinewidth": 0,
             "ticks": ""
            },
            "colorscale": [
             [
              0,
              "#0d0887"
             ],
             [
              0.1111111111111111,
              "#46039f"
             ],
             [
              0.2222222222222222,
              "#7201a8"
             ],
             [
              0.3333333333333333,
              "#9c179e"
             ],
             [
              0.4444444444444444,
              "#bd3786"
             ],
             [
              0.5555555555555556,
              "#d8576b"
             ],
             [
              0.6666666666666666,
              "#ed7953"
             ],
             [
              0.7777777777777778,
              "#fb9f3a"
             ],
             [
              0.8888888888888888,
              "#fdca26"
             ],
             [
              1,
              "#f0f921"
             ]
            ],
            "type": "histogram2d"
           }
          ],
          "histogram2dcontour": [
           {
            "colorbar": {
             "outlinewidth": 0,
             "ticks": ""
            },
            "colorscale": [
             [
              0,
              "#0d0887"
             ],
             [
              0.1111111111111111,
              "#46039f"
             ],
             [
              0.2222222222222222,
              "#7201a8"
             ],
             [
              0.3333333333333333,
              "#9c179e"
             ],
             [
              0.4444444444444444,
              "#bd3786"
             ],
             [
              0.5555555555555556,
              "#d8576b"
             ],
             [
              0.6666666666666666,
              "#ed7953"
             ],
             [
              0.7777777777777778,
              "#fb9f3a"
             ],
             [
              0.8888888888888888,
              "#fdca26"
             ],
             [
              1,
              "#f0f921"
             ]
            ],
            "type": "histogram2dcontour"
           }
          ],
          "mesh3d": [
           {
            "colorbar": {
             "outlinewidth": 0,
             "ticks": ""
            },
            "type": "mesh3d"
           }
          ],
          "parcoords": [
           {
            "line": {
             "colorbar": {
              "outlinewidth": 0,
              "ticks": ""
             }
            },
            "type": "parcoords"
           }
          ],
          "pie": [
           {
            "automargin": true,
            "type": "pie"
           }
          ],
          "scatter": [
           {
            "marker": {
             "colorbar": {
              "outlinewidth": 0,
              "ticks": ""
             }
            },
            "type": "scatter"
           }
          ],
          "scatter3d": [
           {
            "line": {
             "colorbar": {
              "outlinewidth": 0,
              "ticks": ""
             }
            },
            "marker": {
             "colorbar": {
              "outlinewidth": 0,
              "ticks": ""
             }
            },
            "type": "scatter3d"
           }
          ],
          "scattercarpet": [
           {
            "marker": {
             "colorbar": {
              "outlinewidth": 0,
              "ticks": ""
             }
            },
            "type": "scattercarpet"
           }
          ],
          "scattergeo": [
           {
            "marker": {
             "colorbar": {
              "outlinewidth": 0,
              "ticks": ""
             }
            },
            "type": "scattergeo"
           }
          ],
          "scattergl": [
           {
            "marker": {
             "colorbar": {
              "outlinewidth": 0,
              "ticks": ""
             }
            },
            "type": "scattergl"
           }
          ],
          "scattermapbox": [
           {
            "marker": {
             "colorbar": {
              "outlinewidth": 0,
              "ticks": ""
             }
            },
            "type": "scattermapbox"
           }
          ],
          "scatterpolar": [
           {
            "marker": {
             "colorbar": {
              "outlinewidth": 0,
              "ticks": ""
             }
            },
            "type": "scatterpolar"
           }
          ],
          "scatterpolargl": [
           {
            "marker": {
             "colorbar": {
              "outlinewidth": 0,
              "ticks": ""
             }
            },
            "type": "scatterpolargl"
           }
          ],
          "scatterternary": [
           {
            "marker": {
             "colorbar": {
              "outlinewidth": 0,
              "ticks": ""
             }
            },
            "type": "scatterternary"
           }
          ],
          "surface": [
           {
            "colorbar": {
             "outlinewidth": 0,
             "ticks": ""
            },
            "colorscale": [
             [
              0,
              "#0d0887"
             ],
             [
              0.1111111111111111,
              "#46039f"
             ],
             [
              0.2222222222222222,
              "#7201a8"
             ],
             [
              0.3333333333333333,
              "#9c179e"
             ],
             [
              0.4444444444444444,
              "#bd3786"
             ],
             [
              0.5555555555555556,
              "#d8576b"
             ],
             [
              0.6666666666666666,
              "#ed7953"
             ],
             [
              0.7777777777777778,
              "#fb9f3a"
             ],
             [
              0.8888888888888888,
              "#fdca26"
             ],
             [
              1,
              "#f0f921"
             ]
            ],
            "type": "surface"
           }
          ],
          "table": [
           {
            "cells": {
             "fill": {
              "color": "#EBF0F8"
             },
             "line": {
              "color": "white"
             }
            },
            "header": {
             "fill": {
              "color": "#C8D4E3"
             },
             "line": {
              "color": "white"
             }
            },
            "type": "table"
           }
          ]
         },
         "layout": {
          "annotationdefaults": {
           "arrowcolor": "#2a3f5f",
           "arrowhead": 0,
           "arrowwidth": 1
          },
          "coloraxis": {
           "colorbar": {
            "outlinewidth": 0,
            "ticks": ""
           }
          },
          "colorscale": {
           "diverging": [
            [
             0,
             "#8e0152"
            ],
            [
             0.1,
             "#c51b7d"
            ],
            [
             0.2,
             "#de77ae"
            ],
            [
             0.3,
             "#f1b6da"
            ],
            [
             0.4,
             "#fde0ef"
            ],
            [
             0.5,
             "#f7f7f7"
            ],
            [
             0.6,
             "#e6f5d0"
            ],
            [
             0.7,
             "#b8e186"
            ],
            [
             0.8,
             "#7fbc41"
            ],
            [
             0.9,
             "#4d9221"
            ],
            [
             1,
             "#276419"
            ]
           ],
           "sequential": [
            [
             0,
             "#0d0887"
            ],
            [
             0.1111111111111111,
             "#46039f"
            ],
            [
             0.2222222222222222,
             "#7201a8"
            ],
            [
             0.3333333333333333,
             "#9c179e"
            ],
            [
             0.4444444444444444,
             "#bd3786"
            ],
            [
             0.5555555555555556,
             "#d8576b"
            ],
            [
             0.6666666666666666,
             "#ed7953"
            ],
            [
             0.7777777777777778,
             "#fb9f3a"
            ],
            [
             0.8888888888888888,
             "#fdca26"
            ],
            [
             1,
             "#f0f921"
            ]
           ],
           "sequentialminus": [
            [
             0,
             "#0d0887"
            ],
            [
             0.1111111111111111,
             "#46039f"
            ],
            [
             0.2222222222222222,
             "#7201a8"
            ],
            [
             0.3333333333333333,
             "#9c179e"
            ],
            [
             0.4444444444444444,
             "#bd3786"
            ],
            [
             0.5555555555555556,
             "#d8576b"
            ],
            [
             0.6666666666666666,
             "#ed7953"
            ],
            [
             0.7777777777777778,
             "#fb9f3a"
            ],
            [
             0.8888888888888888,
             "#fdca26"
            ],
            [
             1,
             "#f0f921"
            ]
           ]
          },
          "colorway": [
           "#636efa",
           "#EF553B",
           "#00cc96",
           "#ab63fa",
           "#FFA15A",
           "#19d3f3",
           "#FF6692",
           "#B6E880",
           "#FF97FF",
           "#FECB52"
          ],
          "font": {
           "color": "#2a3f5f"
          },
          "geo": {
           "bgcolor": "white",
           "lakecolor": "white",
           "landcolor": "#E5ECF6",
           "showlakes": true,
           "showland": true,
           "subunitcolor": "white"
          },
          "hoverlabel": {
           "align": "left"
          },
          "hovermode": "closest",
          "mapbox": {
           "style": "light"
          },
          "paper_bgcolor": "white",
          "plot_bgcolor": "#E5ECF6",
          "polar": {
           "angularaxis": {
            "gridcolor": "white",
            "linecolor": "white",
            "ticks": ""
           },
           "bgcolor": "#E5ECF6",
           "radialaxis": {
            "gridcolor": "white",
            "linecolor": "white",
            "ticks": ""
           }
          },
          "scene": {
           "xaxis": {
            "backgroundcolor": "#E5ECF6",
            "gridcolor": "white",
            "gridwidth": 2,
            "linecolor": "white",
            "showbackground": true,
            "ticks": "",
            "zerolinecolor": "white"
           },
           "yaxis": {
            "backgroundcolor": "#E5ECF6",
            "gridcolor": "white",
            "gridwidth": 2,
            "linecolor": "white",
            "showbackground": true,
            "ticks": "",
            "zerolinecolor": "white"
           },
           "zaxis": {
            "backgroundcolor": "#E5ECF6",
            "gridcolor": "white",
            "gridwidth": 2,
            "linecolor": "white",
            "showbackground": true,
            "ticks": "",
            "zerolinecolor": "white"
           }
          },
          "shapedefaults": {
           "line": {
            "color": "#2a3f5f"
           }
          },
          "ternary": {
           "aaxis": {
            "gridcolor": "white",
            "linecolor": "white",
            "ticks": ""
           },
           "baxis": {
            "gridcolor": "white",
            "linecolor": "white",
            "ticks": ""
           },
           "bgcolor": "#E5ECF6",
           "caxis": {
            "gridcolor": "white",
            "linecolor": "white",
            "ticks": ""
           }
          },
          "title": {
           "x": 0.05
          },
          "xaxis": {
           "automargin": true,
           "gridcolor": "white",
           "linecolor": "white",
           "ticks": "",
           "title": {
            "standoff": 15
           },
           "zerolinecolor": "white",
           "zerolinewidth": 2
          },
          "yaxis": {
           "automargin": true,
           "gridcolor": "white",
           "linecolor": "white",
           "ticks": "",
           "title": {
            "standoff": 15
           },
           "zerolinecolor": "white",
           "zerolinewidth": 2
          }
         }
        },
        "title": {
         "text": "Ceny transakcyjne mieszkań w Polsce, rynek pierwotny"
        },
        "xaxis": {
         "anchor": "y",
         "domain": [
          0,
          1
         ],
         "title": {
          "text": "kwartał"
         }
        },
        "yaxis": {
         "anchor": "x",
         "domain": [
          0,
          1
         ],
         "title": {
          "text": "cena za 1 metr kwadratowy"
         }
        }
       }
      },
      "text/html": [
       "<div>\n",
       "        \n",
       "        \n",
       "            <div id=\"cf7b7a90-45c9-467f-b6cb-60a0acad117f\" class=\"plotly-graph-div\" style=\"height:525px; width:100%;\"></div>\n",
       "            <script type=\"text/javascript\">\n",
       "                require([\"plotly\"], function(Plotly) {\n",
       "                    window.PLOTLYENV=window.PLOTLYENV || {};\n",
       "                    \n",
       "                if (document.getElementById(\"cf7b7a90-45c9-467f-b6cb-60a0acad117f\")) {\n",
       "                    Plotly.newPlot(\n",
       "                        'cf7b7a90-45c9-467f-b6cb-60a0acad117f',\n",
       "                        [{\"hovertemplate\": \"variable=Warszawa<br>Kwarta\\u0142=%{x}<br>value=%{y}<extra></extra>\", \"legendgroup\": \"Warszawa\", \"line\": {\"color\": \"#636efa\", \"dash\": \"solid\"}, \"mode\": \"lines\", \"name\": \"Warszawa\", \"orientation\": \"v\", \"showlegend\": true, \"type\": \"scatter\", \"x\": [\"III 2006\", \"IV 2006\", \"I 2007\", \"II 2007\", \"III 2007\", \"IV 2007\", \"I 2008\", \"II 2008\", \"III 2008\", \"IV 2008\", \"I 2009\", \"II 2009\", \"III 2009\", \"IV 2009\", \"I 2010\", \"II 2010\", \"III 2010\", \"IV 2010\", \"I 2011\", \"II 2011\", \"III 2011\", \"IV 2011\", \"I 2012\", \"II 2012\", \"III 2012\", \"IV 2012\", \"I 2013\", \"II 2013\", \"III 2013\", \"IV 2013\", \"I 2014\", \"II 2014\", \"III 2014\", \"IV 2014\", \"I 2015\", \"II 2015\", \"III 2015\", \"IV 2015\", \"I 2016\", \"II 2016\", \"III 2016\", \"IV 2016\", \"I 2017\", \"II 2017\", \"III 2017\", \"IV 2017\", \"I 2018\", \"II 2018\", \"III 2018\", \"IV 2018\", \"I 2019\", \"II 2019\", \"III 2019\", \"IV 2019\", \"I 2020\"], \"xaxis\": \"x\", \"y\": [5605.0, 6186.0, 7302.0, 7523.0, 7879.0, 8571.0, 8535.0, 8611.0, 8325.0, 8149.0, 7543.0, 7461.0, 7585.0, 7680.0, 8173.0, 7974.0, 7940.0, 7441.0, 8037.0, 7527.0, 7423.0, 7226.0, 6967.0, 7043.0, 6757.0, 6466.0, 6990.0, 7018.0, 7173.0, 7427.0, 7298.0, 7316.0, 7446.0, 7315.0, 7396.0, 7510.0, 7557.0, 7462.0, 7639.0, 7583.0, 7696.0, 7686.0, 7562.0, 7683.0, 7820.0, 7751.0, 7965.0, 8183.0, 8538.0, 8565.0, 8771.0, 8932.0, 9188.0, 9476.0, 9819.0], \"yaxis\": \"y\"}, {\"hovertemplate\": \"variable=Gda\\u0144sk<br>Kwarta\\u0142=%{x}<br>value=%{y}<extra></extra>\", \"legendgroup\": \"Gda\\u0144sk\", \"line\": {\"color\": \"#EF553B\", \"dash\": \"solid\"}, \"mode\": \"lines\", \"name\": \"Gda\\u0144sk\", \"orientation\": \"v\", \"showlegend\": true, \"type\": \"scatter\", \"x\": [\"III 2006\", \"IV 2006\", \"I 2007\", \"II 2007\", \"III 2007\", \"IV 2007\", \"I 2008\", \"II 2008\", \"III 2008\", \"IV 2008\", \"I 2009\", \"II 2009\", \"III 2009\", \"IV 2009\", \"I 2010\", \"II 2010\", \"III 2010\", \"IV 2010\", \"I 2011\", \"II 2011\", \"III 2011\", \"IV 2011\", \"I 2012\", \"II 2012\", \"III 2012\", \"IV 2012\", \"I 2013\", \"II 2013\", \"III 2013\", \"IV 2013\", \"I 2014\", \"II 2014\", \"III 2014\", \"IV 2014\", \"I 2015\", \"II 2015\", \"III 2015\", \"IV 2015\", \"I 2016\", \"II 2016\", \"III 2016\", \"IV 2016\", \"I 2017\", \"II 2017\", \"III 2017\", \"IV 2017\", \"I 2018\", \"II 2018\", \"III 2018\", \"IV 2018\", \"I 2019\", \"II 2019\", \"III 2019\", \"IV 2019\", \"I 2020\"], \"xaxis\": \"x\", \"y\": [3494.0, 5252.0, 5490.0, 7137.0, 7440.0, 6294.0, 6473.0, 7740.0, 7042.0, 6193.0, 5309.0, 5907.0, 5804.0, 5476.0, 5839.0, 5678.0, 5272.0, 5216.0, 5692.0, 5661.0, 5479.0, 5506.0, 5594.0, 5604.0, 5555.0, 5336.0, 5292.0, 5682.0, 5794.0, 6155.0, 5501.0, 5977.0, 5805.0, 5785.0, 5951.0, 5749.0, 6089.0, 6031.0, 6452.0, 6185.0, 6283.0, 6481.0, 6430.0, 6501.0, 6816.0, 6829.0, 7255.0, 7543.0, 7257.0, 7915.0, 8262.0, 8288.0, 8534.0, 8585.0, 8741.0], \"yaxis\": \"y\"}, {\"hovertemplate\": \"variable=Lublin<br>Kwarta\\u0142=%{x}<br>value=%{y}<extra></extra>\", \"legendgroup\": \"Lublin\", \"line\": {\"color\": \"#00cc96\", \"dash\": \"solid\"}, \"mode\": \"lines\", \"name\": \"Lublin\", \"orientation\": \"v\", \"showlegend\": true, \"type\": \"scatter\", \"x\": [\"III 2006\", \"IV 2006\", \"I 2007\", \"II 2007\", \"III 2007\", \"IV 2007\", \"I 2008\", \"II 2008\", \"III 2008\", \"IV 2008\", \"I 2009\", \"II 2009\", \"III 2009\", \"IV 2009\", \"I 2010\", \"II 2010\", \"III 2010\", \"IV 2010\", \"I 2011\", \"II 2011\", \"III 2011\", \"IV 2011\", \"I 2012\", \"II 2012\", \"III 2012\", \"IV 2012\", \"I 2013\", \"II 2013\", \"III 2013\", \"IV 2013\", \"I 2014\", \"II 2014\", \"III 2014\", \"IV 2014\", \"I 2015\", \"II 2015\", \"III 2015\", \"IV 2015\", \"I 2016\", \"II 2016\", \"III 2016\", \"IV 2016\", \"I 2017\", \"II 2017\", \"III 2017\", \"IV 2017\", \"I 2018\", \"II 2018\", \"III 2018\", \"IV 2018\", \"I 2019\", \"II 2019\", \"III 2019\", \"IV 2019\", \"I 2020\"], \"xaxis\": \"x\", \"y\": [3022.0, 3304.0, 3309.0, 3503.0, 4125.0, 4597.0, 4861.0, 4531.0, 5073.0, 5217.0, 4746.0, 4693.0, 4437.0, 4830.0, 4495.0, 4535.0, 4821.0, 4819.0, 4896.0, 4827.0, 5133.0, 4644.0, 4935.0, 4906.0, 4864.0, 4699.0, 4679.0, 4943.0, 4770.0, 4796.0, 4643.0, 4917.0, 4843.0, 4967.0, 4920.0, 4980.0, 5017.0, 4913.0, 4995.0, 5035.0, 4976.0, 5212.0, 5095.0, 4953.0, 5243.0, 5093.0, 5473.0, 5479.0, 5545.0, 5785.0, 5874.0, 5852.0, 6158.0, 5977.0, 5974.0], \"yaxis\": \"y\"}, {\"hovertemplate\": \"variable=7 miast<br>Kwarta\\u0142=%{x}<br>value=%{y}<extra></extra>\", \"legendgroup\": \"7 miast\", \"line\": {\"color\": \"#ab63fa\", \"dash\": \"solid\"}, \"mode\": \"lines\", \"name\": \"7 miast\", \"orientation\": \"v\", \"showlegend\": true, \"type\": \"scatter\", \"x\": [\"III 2006\", \"IV 2006\", \"I 2007\", \"II 2007\", \"III 2007\", \"IV 2007\", \"I 2008\", \"II 2008\", \"III 2008\", \"IV 2008\", \"I 2009\", \"II 2009\", \"III 2009\", \"IV 2009\", \"I 2010\", \"II 2010\", \"III 2010\", \"IV 2010\", \"I 2011\", \"II 2011\", \"III 2011\", \"IV 2011\", \"I 2012\", \"II 2012\", \"III 2012\", \"IV 2012\", \"I 2013\", \"II 2013\", \"III 2013\", \"IV 2013\", \"I 2014\", \"II 2014\", \"III 2014\", \"IV 2014\", \"I 2015\", \"II 2015\", \"III 2015\", \"IV 2015\", \"I 2016\", \"II 2016\", \"III 2016\", \"IV 2016\", \"I 2017\", \"II 2017\", \"III 2017\", \"IV 2017\", \"I 2018\", \"II 2018\", \"III 2018\", \"IV 2018\", \"I 2019\", \"II 2019\", \"III 2019\", \"IV 2019\", \"I 2020\"], \"xaxis\": \"x\", \"y\": [3591.0, 5369.0, 6499.0, 6785.0, 7065.0, 8064.0, 7539.0, 6725.0, 7383.0, 7023.0, 6626.0, 6522.0, 6502.0, 6629.0, 6842.0, 6785.0, 6684.0, 6564.0, 6869.0, 6789.0, 6686.0, 6487.0, 6208.0, 6299.0, 6104.0, 5931.0, 6031.0, 6166.0, 6227.0, 6314.0, 6196.0, 6252.0, 6317.0, 6213.0, 6307.0, 6352.0, 6486.0, 6458.0, 6523.0, 6520.0, 6578.0, 6662.0, 6576.0, 6687.0, 6874.0, 6829.0, 6980.0, 7128.0, 7340.0, 7525.0, 7674.0, 7863.0, 8020.0, 8223.0, 8506.0], \"yaxis\": \"y\"}, {\"hovertemplate\": \"variable=6 miast bez Warszawy<br>Kwarta\\u0142=%{x}<br>value=%{y}<extra></extra>\", \"legendgroup\": \"6 miast bez Warszawy\", \"line\": {\"color\": \"#FFA15A\", \"dash\": \"solid\"}, \"mode\": \"lines\", \"name\": \"6 miast bez Warszawy\", \"orientation\": \"v\", \"showlegend\": true, \"type\": \"scatter\", \"x\": [\"III 2006\", \"IV 2006\", \"I 2007\", \"II 2007\", \"III 2007\", \"IV 2007\", \"I 2008\", \"II 2008\", \"III 2008\", \"IV 2008\", \"I 2009\", \"II 2009\", \"III 2009\", \"IV 2009\", \"I 2010\", \"II 2010\", \"III 2010\", \"IV 2010\", \"I 2011\", \"II 2011\", \"III 2011\", \"IV 2011\", \"I 2012\", \"II 2012\", \"III 2012\", \"IV 2012\", \"I 2013\", \"II 2013\", \"III 2013\", \"IV 2013\", \"I 2014\", \"II 2014\", \"III 2014\", \"IV 2014\", \"I 2015\", \"II 2015\", \"III 2015\", \"IV 2015\", \"I 2016\", \"II 2016\", \"III 2016\", \"IV 2016\", \"I 2017\", \"II 2017\", \"III 2017\", \"IV 2017\", \"I 2018\", \"II 2018\", \"III 2018\", \"IV 2018\", \"I 2019\", \"II 2019\", \"III 2019\", \"IV 2019\", \"I 2020\"], \"xaxis\": \"x\", \"y\": [4231.0, 4923.0, 6121.0, 6610.0, 6605.0, 6754.0, 6937.0, 6666.0, 6879.0, 6396.0, 6114.0, 6002.0, 5901.0, 6048.0, 6103.0, 6123.0, 5985.0, 6076.0, 6220.0, 6380.0, 6276.0, 6072.0, 5805.0, 5884.0, 5739.0, 5631.0, 5482.0, 5682.0, 5679.0, 5664.0, 5599.0, 5685.0, 5700.0, 5605.0, 5694.0, 5707.0, 5893.0, 5886.0, 5889.0, 5917.0, 5951.0, 6074.0, 6027.0, 6131.0, 6345.0, 6314.0, 6431.0, 6539.0, 6673.0, 6937.0, 7056.0, 7265.0, 7365.0, 7525.0, 7765.0], \"yaxis\": \"y\"}],\n",
       "                        {\"hovermode\": \"x unified\", \"legend\": {\"title\": {\"text\": \"Legenda\"}, \"tracegroupgap\": 0}, \"margin\": {\"t\": 60}, \"template\": {\"data\": {\"bar\": [{\"error_x\": {\"color\": \"#2a3f5f\"}, \"error_y\": {\"color\": \"#2a3f5f\"}, \"marker\": {\"line\": {\"color\": \"#E5ECF6\", \"width\": 0.5}}, \"type\": \"bar\"}], \"barpolar\": [{\"marker\": {\"line\": {\"color\": \"#E5ECF6\", \"width\": 0.5}}, \"type\": \"barpolar\"}], \"carpet\": [{\"aaxis\": {\"endlinecolor\": \"#2a3f5f\", \"gridcolor\": \"white\", \"linecolor\": \"white\", \"minorgridcolor\": \"white\", \"startlinecolor\": \"#2a3f5f\"}, \"baxis\": {\"endlinecolor\": \"#2a3f5f\", \"gridcolor\": \"white\", \"linecolor\": \"white\", \"minorgridcolor\": \"white\", \"startlinecolor\": \"#2a3f5f\"}, \"type\": \"carpet\"}], \"choropleth\": [{\"colorbar\": {\"outlinewidth\": 0, \"ticks\": \"\"}, \"type\": \"choropleth\"}], \"contour\": [{\"colorbar\": {\"outlinewidth\": 0, \"ticks\": \"\"}, \"colorscale\": [[0.0, \"#0d0887\"], [0.1111111111111111, \"#46039f\"], [0.2222222222222222, \"#7201a8\"], [0.3333333333333333, \"#9c179e\"], [0.4444444444444444, \"#bd3786\"], [0.5555555555555556, \"#d8576b\"], [0.6666666666666666, \"#ed7953\"], [0.7777777777777778, \"#fb9f3a\"], [0.8888888888888888, \"#fdca26\"], [1.0, \"#f0f921\"]], \"type\": \"contour\"}], \"contourcarpet\": [{\"colorbar\": {\"outlinewidth\": 0, \"ticks\": \"\"}, \"type\": \"contourcarpet\"}], \"heatmap\": [{\"colorbar\": {\"outlinewidth\": 0, \"ticks\": \"\"}, \"colorscale\": [[0.0, \"#0d0887\"], [0.1111111111111111, \"#46039f\"], [0.2222222222222222, \"#7201a8\"], [0.3333333333333333, \"#9c179e\"], [0.4444444444444444, \"#bd3786\"], [0.5555555555555556, \"#d8576b\"], [0.6666666666666666, \"#ed7953\"], [0.7777777777777778, \"#fb9f3a\"], [0.8888888888888888, \"#fdca26\"], [1.0, \"#f0f921\"]], \"type\": \"heatmap\"}], \"heatmapgl\": [{\"colorbar\": {\"outlinewidth\": 0, \"ticks\": \"\"}, \"colorscale\": [[0.0, \"#0d0887\"], [0.1111111111111111, \"#46039f\"], [0.2222222222222222, \"#7201a8\"], [0.3333333333333333, \"#9c179e\"], [0.4444444444444444, \"#bd3786\"], [0.5555555555555556, \"#d8576b\"], [0.6666666666666666, \"#ed7953\"], [0.7777777777777778, \"#fb9f3a\"], [0.8888888888888888, \"#fdca26\"], [1.0, \"#f0f921\"]], \"type\": \"heatmapgl\"}], \"histogram\": [{\"marker\": {\"colorbar\": {\"outlinewidth\": 0, \"ticks\": \"\"}}, \"type\": \"histogram\"}], \"histogram2d\": [{\"colorbar\": {\"outlinewidth\": 0, \"ticks\": \"\"}, \"colorscale\": [[0.0, \"#0d0887\"], [0.1111111111111111, \"#46039f\"], [0.2222222222222222, \"#7201a8\"], [0.3333333333333333, \"#9c179e\"], [0.4444444444444444, \"#bd3786\"], [0.5555555555555556, \"#d8576b\"], [0.6666666666666666, \"#ed7953\"], [0.7777777777777778, \"#fb9f3a\"], [0.8888888888888888, \"#fdca26\"], [1.0, \"#f0f921\"]], \"type\": \"histogram2d\"}], \"histogram2dcontour\": [{\"colorbar\": {\"outlinewidth\": 0, \"ticks\": \"\"}, \"colorscale\": [[0.0, \"#0d0887\"], [0.1111111111111111, \"#46039f\"], [0.2222222222222222, \"#7201a8\"], [0.3333333333333333, \"#9c179e\"], [0.4444444444444444, \"#bd3786\"], [0.5555555555555556, \"#d8576b\"], [0.6666666666666666, \"#ed7953\"], [0.7777777777777778, \"#fb9f3a\"], [0.8888888888888888, \"#fdca26\"], [1.0, \"#f0f921\"]], \"type\": \"histogram2dcontour\"}], \"mesh3d\": [{\"colorbar\": {\"outlinewidth\": 0, \"ticks\": \"\"}, \"type\": \"mesh3d\"}], \"parcoords\": [{\"line\": {\"colorbar\": {\"outlinewidth\": 0, \"ticks\": \"\"}}, \"type\": \"parcoords\"}], \"pie\": [{\"automargin\": true, \"type\": \"pie\"}], \"scatter\": [{\"marker\": {\"colorbar\": {\"outlinewidth\": 0, \"ticks\": \"\"}}, \"type\": \"scatter\"}], \"scatter3d\": [{\"line\": {\"colorbar\": {\"outlinewidth\": 0, \"ticks\": \"\"}}, \"marker\": {\"colorbar\": {\"outlinewidth\": 0, \"ticks\": \"\"}}, \"type\": \"scatter3d\"}], \"scattercarpet\": [{\"marker\": {\"colorbar\": {\"outlinewidth\": 0, \"ticks\": \"\"}}, \"type\": \"scattercarpet\"}], \"scattergeo\": [{\"marker\": {\"colorbar\": {\"outlinewidth\": 0, \"ticks\": \"\"}}, \"type\": \"scattergeo\"}], \"scattergl\": [{\"marker\": {\"colorbar\": {\"outlinewidth\": 0, \"ticks\": \"\"}}, \"type\": \"scattergl\"}], \"scattermapbox\": [{\"marker\": {\"colorbar\": {\"outlinewidth\": 0, \"ticks\": \"\"}}, \"type\": \"scattermapbox\"}], \"scatterpolar\": [{\"marker\": {\"colorbar\": {\"outlinewidth\": 0, \"ticks\": \"\"}}, \"type\": \"scatterpolar\"}], \"scatterpolargl\": [{\"marker\": {\"colorbar\": {\"outlinewidth\": 0, \"ticks\": \"\"}}, \"type\": \"scatterpolargl\"}], \"scatterternary\": [{\"marker\": {\"colorbar\": {\"outlinewidth\": 0, \"ticks\": \"\"}}, \"type\": \"scatterternary\"}], \"surface\": [{\"colorbar\": {\"outlinewidth\": 0, \"ticks\": \"\"}, \"colorscale\": [[0.0, \"#0d0887\"], [0.1111111111111111, \"#46039f\"], [0.2222222222222222, \"#7201a8\"], [0.3333333333333333, \"#9c179e\"], [0.4444444444444444, \"#bd3786\"], [0.5555555555555556, \"#d8576b\"], [0.6666666666666666, \"#ed7953\"], [0.7777777777777778, \"#fb9f3a\"], [0.8888888888888888, \"#fdca26\"], [1.0, \"#f0f921\"]], \"type\": \"surface\"}], \"table\": [{\"cells\": {\"fill\": {\"color\": \"#EBF0F8\"}, \"line\": {\"color\": \"white\"}}, \"header\": {\"fill\": {\"color\": \"#C8D4E3\"}, \"line\": {\"color\": \"white\"}}, \"type\": \"table\"}]}, \"layout\": {\"annotationdefaults\": {\"arrowcolor\": \"#2a3f5f\", \"arrowhead\": 0, \"arrowwidth\": 1}, \"coloraxis\": {\"colorbar\": {\"outlinewidth\": 0, \"ticks\": \"\"}}, \"colorscale\": {\"diverging\": [[0, \"#8e0152\"], [0.1, \"#c51b7d\"], [0.2, \"#de77ae\"], [0.3, \"#f1b6da\"], [0.4, \"#fde0ef\"], [0.5, \"#f7f7f7\"], [0.6, \"#e6f5d0\"], [0.7, \"#b8e186\"], [0.8, \"#7fbc41\"], [0.9, \"#4d9221\"], [1, \"#276419\"]], \"sequential\": [[0.0, \"#0d0887\"], [0.1111111111111111, \"#46039f\"], [0.2222222222222222, \"#7201a8\"], [0.3333333333333333, \"#9c179e\"], [0.4444444444444444, \"#bd3786\"], [0.5555555555555556, \"#d8576b\"], [0.6666666666666666, \"#ed7953\"], [0.7777777777777778, \"#fb9f3a\"], [0.8888888888888888, \"#fdca26\"], [1.0, \"#f0f921\"]], \"sequentialminus\": [[0.0, \"#0d0887\"], [0.1111111111111111, \"#46039f\"], [0.2222222222222222, \"#7201a8\"], [0.3333333333333333, \"#9c179e\"], [0.4444444444444444, \"#bd3786\"], [0.5555555555555556, \"#d8576b\"], [0.6666666666666666, \"#ed7953\"], [0.7777777777777778, \"#fb9f3a\"], [0.8888888888888888, \"#fdca26\"], [1.0, \"#f0f921\"]]}, \"colorway\": [\"#636efa\", \"#EF553B\", \"#00cc96\", \"#ab63fa\", \"#FFA15A\", \"#19d3f3\", \"#FF6692\", \"#B6E880\", \"#FF97FF\", \"#FECB52\"], \"font\": {\"color\": \"#2a3f5f\"}, \"geo\": {\"bgcolor\": \"white\", \"lakecolor\": \"white\", \"landcolor\": \"#E5ECF6\", \"showlakes\": true, \"showland\": true, \"subunitcolor\": \"white\"}, \"hoverlabel\": {\"align\": \"left\"}, \"hovermode\": \"closest\", \"mapbox\": {\"style\": \"light\"}, \"paper_bgcolor\": \"white\", \"plot_bgcolor\": \"#E5ECF6\", \"polar\": {\"angularaxis\": {\"gridcolor\": \"white\", \"linecolor\": \"white\", \"ticks\": \"\"}, \"bgcolor\": \"#E5ECF6\", \"radialaxis\": {\"gridcolor\": \"white\", \"linecolor\": \"white\", \"ticks\": \"\"}}, \"scene\": {\"xaxis\": {\"backgroundcolor\": \"#E5ECF6\", \"gridcolor\": \"white\", \"gridwidth\": 2, \"linecolor\": \"white\", \"showbackground\": true, \"ticks\": \"\", \"zerolinecolor\": \"white\"}, \"yaxis\": {\"backgroundcolor\": \"#E5ECF6\", \"gridcolor\": \"white\", \"gridwidth\": 2, \"linecolor\": \"white\", \"showbackground\": true, \"ticks\": \"\", \"zerolinecolor\": \"white\"}, \"zaxis\": {\"backgroundcolor\": \"#E5ECF6\", \"gridcolor\": \"white\", \"gridwidth\": 2, \"linecolor\": \"white\", \"showbackground\": true, \"ticks\": \"\", \"zerolinecolor\": \"white\"}}, \"shapedefaults\": {\"line\": {\"color\": \"#2a3f5f\"}}, \"ternary\": {\"aaxis\": {\"gridcolor\": \"white\", \"linecolor\": \"white\", \"ticks\": \"\"}, \"baxis\": {\"gridcolor\": \"white\", \"linecolor\": \"white\", \"ticks\": \"\"}, \"bgcolor\": \"#E5ECF6\", \"caxis\": {\"gridcolor\": \"white\", \"linecolor\": \"white\", \"ticks\": \"\"}}, \"title\": {\"x\": 0.05}, \"xaxis\": {\"automargin\": true, \"gridcolor\": \"white\", \"linecolor\": \"white\", \"ticks\": \"\", \"title\": {\"standoff\": 15}, \"zerolinecolor\": \"white\", \"zerolinewidth\": 2}, \"yaxis\": {\"automargin\": true, \"gridcolor\": \"white\", \"linecolor\": \"white\", \"ticks\": \"\", \"title\": {\"standoff\": 15}, \"zerolinecolor\": \"white\", \"zerolinewidth\": 2}}}, \"title\": {\"text\": \"Ceny transakcyjne mieszka\\u0144 w Polsce, rynek pierwotny\"}, \"xaxis\": {\"anchor\": \"y\", \"domain\": [0.0, 1.0], \"title\": {\"text\": \"kwarta\\u0142\"}}, \"yaxis\": {\"anchor\": \"x\", \"domain\": [0.0, 1.0], \"title\": {\"text\": \"cena za 1 metr kwadratowy\"}}},\n",
       "                        {\"responsive\": true}\n",
       "                    ).then(function(){\n",
       "                            \n",
       "var gd = document.getElementById('cf7b7a90-45c9-467f-b6cb-60a0acad117f');\n",
       "var x = new MutationObserver(function (mutations, observer) {{\n",
       "        var display = window.getComputedStyle(gd).display;\n",
       "        if (!display || display === 'none') {{\n",
       "            console.log([gd, 'removed!']);\n",
       "            Plotly.purge(gd);\n",
       "            observer.disconnect();\n",
       "        }}\n",
       "}});\n",
       "\n",
       "// Listen for the removal of the full notebook cells\n",
       "var notebookContainer = gd.closest('#notebook-container');\n",
       "if (notebookContainer) {{\n",
       "    x.observe(notebookContainer, {childList: true});\n",
       "}}\n",
       "\n",
       "// Listen for the clearing of the current output cell\n",
       "var outputEl = gd.closest('.output');\n",
       "if (outputEl) {{\n",
       "    x.observe(outputEl, {childList: true});\n",
       "}}\n",
       "\n",
       "                        })\n",
       "                };\n",
       "                });\n",
       "            </script>\n",
       "        </div>"
      ]
     },
     "metadata": {},
     "output_type": "display_data"
    }
   ],
   "source": [
    "fig = px.line(dane, x = 'Kwartał', y = MIASTA)\n",
    "fig.update_layout(title='Ceny ' + CENY + ' mieszkań w Polsce, rynek ' + RYNEK,\n",
    "                   xaxis_title='kwartał',\n",
    "                   yaxis_title='cena za 1 metr kwadratowy',\n",
    "                   legend_title_text='Legenda',\n",
    "                   hovermode=\"x unified\")\n",
    "fig.show()"
   ]
  },
  {
   "cell_type": "markdown",
   "metadata": {},
   "source": [
    "###### Dynamika cen za 1 metr kwadratowy"
   ]
  },
  {
   "cell_type": "code",
   "execution_count": 24,
   "metadata": {
    "scrolled": false
   },
   "outputs": [
    {
     "data": {
      "application/vnd.plotly.v1+json": {
       "config": {
        "plotlyServerURL": "https://plot.ly"
       },
       "data": [
        {
         "name": "Warszawa",
         "type": "bar",
         "x": [
          "III 2007",
          "IV 2007",
          "I 2008",
          "II 2008",
          "III 2008",
          "IV 2008",
          "I 2009",
          "II 2009",
          "III 2009",
          "IV 2009",
          "I 2010",
          "II 2010",
          "III 2010",
          "IV 2010",
          "I 2011",
          "II 2011",
          "III 2011",
          "IV 2011",
          "I 2012",
          "II 2012",
          "III 2012",
          "IV 2012",
          "I 2013",
          "II 2013",
          "III 2013",
          "IV 2013",
          "I 2014",
          "II 2014",
          "III 2014",
          "IV 2014",
          "I 2015",
          "II 2015",
          "III 2015",
          "IV 2015",
          "I 2016",
          "II 2016",
          "III 2016",
          "IV 2016",
          "I 2017",
          "II 2017",
          "III 2017",
          "IV 2017",
          "I 2018",
          "II 2018",
          "III 2018",
          "IV 2018",
          "I 2019",
          "II 2019",
          "III 2019",
          "IV 2019",
          "I 2020"
         ],
         "xaxis": "x",
         "y": [
          40.57,
          38.55,
          16.89,
          14.46,
          5.66,
          -4.92,
          -11.62,
          -13.36,
          -8.89,
          -5.76,
          8.35,
          6.87,
          4.68,
          -3.11,
          -1.67,
          -5.61,
          -6.52,
          -2.89,
          -13.32,
          -6.43,
          -8.97,
          -10.51,
          0.33,
          -0.35,
          6.16,
          14.87,
          4.42,
          4.24,
          3.8,
          -1.52,
          1.33,
          2.66,
          1.5,
          2.01,
          3.3,
          0.97,
          1.84,
          3,
          -1.01,
          1.31,
          1.61,
          0.84,
          5.33,
          6.51,
          9.18,
          10.5,
          10.12,
          9.16,
          7.62,
          10.64,
          11.94
         ],
         "yaxis": "y"
        },
        {
         "name": "Gdańsk",
         "type": "bar",
         "x": [
          "III 2007",
          "IV 2007",
          "I 2008",
          "II 2008",
          "III 2008",
          "IV 2008",
          "I 2009",
          "II 2009",
          "III 2009",
          "IV 2009",
          "I 2010",
          "II 2010",
          "III 2010",
          "IV 2010",
          "I 2011",
          "II 2011",
          "III 2011",
          "IV 2011",
          "I 2012",
          "II 2012",
          "III 2012",
          "IV 2012",
          "I 2013",
          "II 2013",
          "III 2013",
          "IV 2013",
          "I 2014",
          "II 2014",
          "III 2014",
          "IV 2014",
          "I 2015",
          "II 2015",
          "III 2015",
          "IV 2015",
          "I 2016",
          "II 2016",
          "III 2016",
          "IV 2016",
          "I 2017",
          "II 2017",
          "III 2017",
          "IV 2017",
          "I 2018",
          "II 2018",
          "III 2018",
          "IV 2018",
          "I 2019",
          "II 2019",
          "III 2019",
          "IV 2019",
          "I 2020"
         ],
         "xaxis": "x2",
         "y": [
          112.94,
          19.84,
          17.91,
          8.45,
          -5.35,
          -1.6,
          -17.98,
          -23.68,
          -17.58,
          -11.58,
          9.99,
          -3.88,
          -9.17,
          -4.75,
          -2.53,
          -0.29,
          3.93,
          5.56,
          -1.72,
          -1,
          1.38,
          -3.09,
          -5.4,
          1.38,
          4.32,
          15.35,
          3.95,
          5.19,
          0.18,
          -6.01,
          8.18,
          -3.81,
          4.89,
          4.25,
          8.42,
          7.59,
          3.19,
          7.47,
          -0.33,
          5.1,
          8.48,
          5.37,
          12.82,
          16.04,
          6.46,
          15.89,
          13.89,
          9.87,
          17.6,
          8.47,
          5.8
         ],
         "yaxis": "y2"
        },
        {
         "name": "Lublin",
         "type": "bar",
         "x": [
          "III 2007",
          "IV 2007",
          "I 2008",
          "II 2008",
          "III 2008",
          "IV 2008",
          "I 2009",
          "II 2009",
          "III 2009",
          "IV 2009",
          "I 2010",
          "II 2010",
          "III 2010",
          "IV 2010",
          "I 2011",
          "II 2011",
          "III 2011",
          "IV 2011",
          "I 2012",
          "II 2012",
          "III 2012",
          "IV 2012",
          "I 2013",
          "II 2013",
          "III 2013",
          "IV 2013",
          "I 2014",
          "II 2014",
          "III 2014",
          "IV 2014",
          "I 2015",
          "II 2015",
          "III 2015",
          "IV 2015",
          "I 2016",
          "II 2016",
          "III 2016",
          "IV 2016",
          "I 2017",
          "II 2017",
          "III 2017",
          "IV 2017",
          "I 2018",
          "II 2018",
          "III 2018",
          "IV 2018",
          "I 2019",
          "II 2019",
          "III 2019",
          "IV 2019",
          "I 2020"
         ],
         "xaxis": "x3",
         "y": [
          36.5,
          39.13,
          46.9,
          29.35,
          22.98,
          13.49,
          -2.37,
          3.58,
          -12.54,
          -7.42,
          -5.29,
          -3.37,
          8.65,
          -0.23,
          8.92,
          6.44,
          6.47,
          -3.63,
          0.8,
          1.64,
          -5.24,
          1.18,
          -5.19,
          0.75,
          -1.93,
          2.06,
          -0.77,
          -0.53,
          1.53,
          3.57,
          5.97,
          1.28,
          3.59,
          -1.09,
          1.52,
          1.1,
          -0.82,
          6.09,
          2,
          -1.63,
          5.37,
          -2.28,
          7.42,
          10.62,
          5.76,
          13.59,
          7.33,
          6.81,
          11.06,
          3.33,
          1.71
         ],
         "yaxis": "y3"
        },
        {
         "name": "7 miast",
         "type": "bar",
         "x": [
          "III 2007",
          "IV 2007",
          "I 2008",
          "II 2008",
          "III 2008",
          "IV 2008",
          "I 2009",
          "II 2009",
          "III 2009",
          "IV 2009",
          "I 2010",
          "II 2010",
          "III 2010",
          "IV 2010",
          "I 2011",
          "II 2011",
          "III 2011",
          "IV 2011",
          "I 2012",
          "II 2012",
          "III 2012",
          "IV 2012",
          "I 2013",
          "II 2013",
          "III 2013",
          "IV 2013",
          "I 2014",
          "II 2014",
          "III 2014",
          "IV 2014",
          "I 2015",
          "II 2015",
          "III 2015",
          "IV 2015",
          "I 2016",
          "II 2016",
          "III 2016",
          "IV 2016",
          "I 2017",
          "II 2017",
          "III 2017",
          "IV 2017",
          "I 2018",
          "II 2018",
          "III 2018",
          "IV 2018",
          "I 2019",
          "II 2019",
          "III 2019",
          "IV 2019",
          "I 2020"
         ],
         "xaxis": "x4",
         "y": [
          96.77,
          50.2,
          16,
          -0.88,
          4.5,
          -12.91,
          -12.12,
          -3.02,
          -11.93,
          -5.61,
          3.27,
          4.04,
          2.8,
          -0.98,
          0.39,
          0.06,
          0.03,
          -1.19,
          -9.62,
          -7.23,
          -8.71,
          -8.56,
          -2.84,
          -2.11,
          2.03,
          6.46,
          2.73,
          1.4,
          1.44,
          -1.6,
          1.79,
          1.6,
          2.68,
          3.94,
          3.42,
          2.64,
          1.42,
          3.16,
          0.81,
          2.56,
          4.5,
          2.51,
          6.14,
          6.59,
          6.78,
          10.19,
          9.94,
          10.31,
          9.26,
          9.28,
          10.84
         ],
         "yaxis": "y4"
        },
        {
         "name": "6 miast bez Warszawy",
         "type": "bar",
         "x": [
          "III 2007",
          "IV 2007",
          "I 2008",
          "II 2008",
          "III 2008",
          "IV 2008",
          "I 2009",
          "II 2009",
          "III 2009",
          "IV 2009",
          "I 2010",
          "II 2010",
          "III 2010",
          "IV 2010",
          "I 2011",
          "II 2011",
          "III 2011",
          "IV 2011",
          "I 2012",
          "II 2012",
          "III 2012",
          "IV 2012",
          "I 2013",
          "II 2013",
          "III 2013",
          "IV 2013",
          "I 2014",
          "II 2014",
          "III 2014",
          "IV 2014",
          "I 2015",
          "II 2015",
          "III 2015",
          "IV 2015",
          "I 2016",
          "II 2016",
          "III 2016",
          "IV 2016",
          "I 2017",
          "II 2017",
          "III 2017",
          "IV 2017",
          "I 2018",
          "II 2018",
          "III 2018",
          "IV 2018",
          "I 2019",
          "II 2019",
          "III 2019",
          "IV 2019",
          "I 2020"
         ],
         "xaxis": "x5",
         "y": [
          56.11,
          37.19,
          13.32,
          0.84,
          4.16,
          -5.3,
          -11.85,
          -9.96,
          -14.23,
          -5.44,
          -0.19,
          2.01,
          1.43,
          0.46,
          1.92,
          4.2,
          4.86,
          -0.07,
          -6.68,
          -7.77,
          -8.55,
          -7.26,
          -5.56,
          -3.44,
          -1.05,
          0.58,
          2.13,
          0.05,
          0.37,
          -1.04,
          1.7,
          0.39,
          3.39,
          5.01,
          3.42,
          3.68,
          0.98,
          3.19,
          2.34,
          3.62,
          6.62,
          3.95,
          6.7,
          6.65,
          5.17,
          9.87,
          9.72,
          11.1,
          10.37,
          8.48,
          10.05
         ],
         "yaxis": "y5"
        }
       ],
       "layout": {
        "annotations": [
         {
          "font": {
           "size": 16
          },
          "showarrow": false,
          "text": "Warszawa",
          "x": 0.5,
          "xanchor": "center",
          "xref": "paper",
          "y": 1,
          "yanchor": "bottom",
          "yref": "paper"
         },
         {
          "font": {
           "size": 16
          },
          "showarrow": false,
          "text": "Gdańsk",
          "x": 0.5,
          "xanchor": "center",
          "xref": "paper",
          "y": 0.794,
          "yanchor": "bottom",
          "yref": "paper"
         },
         {
          "font": {
           "size": 16
          },
          "showarrow": false,
          "text": "Lublin",
          "x": 0.5,
          "xanchor": "center",
          "xref": "paper",
          "y": 0.588,
          "yanchor": "bottom",
          "yref": "paper"
         },
         {
          "font": {
           "size": 16
          },
          "showarrow": false,
          "text": "7 miast",
          "x": 0.5,
          "xanchor": "center",
          "xref": "paper",
          "y": 0.382,
          "yanchor": "bottom",
          "yref": "paper"
         },
         {
          "font": {
           "size": 16
          },
          "showarrow": false,
          "text": "6 miast bez Warszawy",
          "x": 0.5,
          "xanchor": "center",
          "xref": "paper",
          "y": 0.176,
          "yanchor": "bottom",
          "yref": "paper"
         }
        ],
        "height": 1500,
        "showlegend": false,
        "template": {
         "data": {
          "bar": [
           {
            "error_x": {
             "color": "#2a3f5f"
            },
            "error_y": {
             "color": "#2a3f5f"
            },
            "marker": {
             "line": {
              "color": "#E5ECF6",
              "width": 0.5
             }
            },
            "type": "bar"
           }
          ],
          "barpolar": [
           {
            "marker": {
             "line": {
              "color": "#E5ECF6",
              "width": 0.5
             }
            },
            "type": "barpolar"
           }
          ],
          "carpet": [
           {
            "aaxis": {
             "endlinecolor": "#2a3f5f",
             "gridcolor": "white",
             "linecolor": "white",
             "minorgridcolor": "white",
             "startlinecolor": "#2a3f5f"
            },
            "baxis": {
             "endlinecolor": "#2a3f5f",
             "gridcolor": "white",
             "linecolor": "white",
             "minorgridcolor": "white",
             "startlinecolor": "#2a3f5f"
            },
            "type": "carpet"
           }
          ],
          "choropleth": [
           {
            "colorbar": {
             "outlinewidth": 0,
             "ticks": ""
            },
            "type": "choropleth"
           }
          ],
          "contour": [
           {
            "colorbar": {
             "outlinewidth": 0,
             "ticks": ""
            },
            "colorscale": [
             [
              0,
              "#0d0887"
             ],
             [
              0.1111111111111111,
              "#46039f"
             ],
             [
              0.2222222222222222,
              "#7201a8"
             ],
             [
              0.3333333333333333,
              "#9c179e"
             ],
             [
              0.4444444444444444,
              "#bd3786"
             ],
             [
              0.5555555555555556,
              "#d8576b"
             ],
             [
              0.6666666666666666,
              "#ed7953"
             ],
             [
              0.7777777777777778,
              "#fb9f3a"
             ],
             [
              0.8888888888888888,
              "#fdca26"
             ],
             [
              1,
              "#f0f921"
             ]
            ],
            "type": "contour"
           }
          ],
          "contourcarpet": [
           {
            "colorbar": {
             "outlinewidth": 0,
             "ticks": ""
            },
            "type": "contourcarpet"
           }
          ],
          "heatmap": [
           {
            "colorbar": {
             "outlinewidth": 0,
             "ticks": ""
            },
            "colorscale": [
             [
              0,
              "#0d0887"
             ],
             [
              0.1111111111111111,
              "#46039f"
             ],
             [
              0.2222222222222222,
              "#7201a8"
             ],
             [
              0.3333333333333333,
              "#9c179e"
             ],
             [
              0.4444444444444444,
              "#bd3786"
             ],
             [
              0.5555555555555556,
              "#d8576b"
             ],
             [
              0.6666666666666666,
              "#ed7953"
             ],
             [
              0.7777777777777778,
              "#fb9f3a"
             ],
             [
              0.8888888888888888,
              "#fdca26"
             ],
             [
              1,
              "#f0f921"
             ]
            ],
            "type": "heatmap"
           }
          ],
          "heatmapgl": [
           {
            "colorbar": {
             "outlinewidth": 0,
             "ticks": ""
            },
            "colorscale": [
             [
              0,
              "#0d0887"
             ],
             [
              0.1111111111111111,
              "#46039f"
             ],
             [
              0.2222222222222222,
              "#7201a8"
             ],
             [
              0.3333333333333333,
              "#9c179e"
             ],
             [
              0.4444444444444444,
              "#bd3786"
             ],
             [
              0.5555555555555556,
              "#d8576b"
             ],
             [
              0.6666666666666666,
              "#ed7953"
             ],
             [
              0.7777777777777778,
              "#fb9f3a"
             ],
             [
              0.8888888888888888,
              "#fdca26"
             ],
             [
              1,
              "#f0f921"
             ]
            ],
            "type": "heatmapgl"
           }
          ],
          "histogram": [
           {
            "marker": {
             "colorbar": {
              "outlinewidth": 0,
              "ticks": ""
             }
            },
            "type": "histogram"
           }
          ],
          "histogram2d": [
           {
            "colorbar": {
             "outlinewidth": 0,
             "ticks": ""
            },
            "colorscale": [
             [
              0,
              "#0d0887"
             ],
             [
              0.1111111111111111,
              "#46039f"
             ],
             [
              0.2222222222222222,
              "#7201a8"
             ],
             [
              0.3333333333333333,
              "#9c179e"
             ],
             [
              0.4444444444444444,
              "#bd3786"
             ],
             [
              0.5555555555555556,
              "#d8576b"
             ],
             [
              0.6666666666666666,
              "#ed7953"
             ],
             [
              0.7777777777777778,
              "#fb9f3a"
             ],
             [
              0.8888888888888888,
              "#fdca26"
             ],
             [
              1,
              "#f0f921"
             ]
            ],
            "type": "histogram2d"
           }
          ],
          "histogram2dcontour": [
           {
            "colorbar": {
             "outlinewidth": 0,
             "ticks": ""
            },
            "colorscale": [
             [
              0,
              "#0d0887"
             ],
             [
              0.1111111111111111,
              "#46039f"
             ],
             [
              0.2222222222222222,
              "#7201a8"
             ],
             [
              0.3333333333333333,
              "#9c179e"
             ],
             [
              0.4444444444444444,
              "#bd3786"
             ],
             [
              0.5555555555555556,
              "#d8576b"
             ],
             [
              0.6666666666666666,
              "#ed7953"
             ],
             [
              0.7777777777777778,
              "#fb9f3a"
             ],
             [
              0.8888888888888888,
              "#fdca26"
             ],
             [
              1,
              "#f0f921"
             ]
            ],
            "type": "histogram2dcontour"
           }
          ],
          "mesh3d": [
           {
            "colorbar": {
             "outlinewidth": 0,
             "ticks": ""
            },
            "type": "mesh3d"
           }
          ],
          "parcoords": [
           {
            "line": {
             "colorbar": {
              "outlinewidth": 0,
              "ticks": ""
             }
            },
            "type": "parcoords"
           }
          ],
          "pie": [
           {
            "automargin": true,
            "type": "pie"
           }
          ],
          "scatter": [
           {
            "marker": {
             "colorbar": {
              "outlinewidth": 0,
              "ticks": ""
             }
            },
            "type": "scatter"
           }
          ],
          "scatter3d": [
           {
            "line": {
             "colorbar": {
              "outlinewidth": 0,
              "ticks": ""
             }
            },
            "marker": {
             "colorbar": {
              "outlinewidth": 0,
              "ticks": ""
             }
            },
            "type": "scatter3d"
           }
          ],
          "scattercarpet": [
           {
            "marker": {
             "colorbar": {
              "outlinewidth": 0,
              "ticks": ""
             }
            },
            "type": "scattercarpet"
           }
          ],
          "scattergeo": [
           {
            "marker": {
             "colorbar": {
              "outlinewidth": 0,
              "ticks": ""
             }
            },
            "type": "scattergeo"
           }
          ],
          "scattergl": [
           {
            "marker": {
             "colorbar": {
              "outlinewidth": 0,
              "ticks": ""
             }
            },
            "type": "scattergl"
           }
          ],
          "scattermapbox": [
           {
            "marker": {
             "colorbar": {
              "outlinewidth": 0,
              "ticks": ""
             }
            },
            "type": "scattermapbox"
           }
          ],
          "scatterpolar": [
           {
            "marker": {
             "colorbar": {
              "outlinewidth": 0,
              "ticks": ""
             }
            },
            "type": "scatterpolar"
           }
          ],
          "scatterpolargl": [
           {
            "marker": {
             "colorbar": {
              "outlinewidth": 0,
              "ticks": ""
             }
            },
            "type": "scatterpolargl"
           }
          ],
          "scatterternary": [
           {
            "marker": {
             "colorbar": {
              "outlinewidth": 0,
              "ticks": ""
             }
            },
            "type": "scatterternary"
           }
          ],
          "surface": [
           {
            "colorbar": {
             "outlinewidth": 0,
             "ticks": ""
            },
            "colorscale": [
             [
              0,
              "#0d0887"
             ],
             [
              0.1111111111111111,
              "#46039f"
             ],
             [
              0.2222222222222222,
              "#7201a8"
             ],
             [
              0.3333333333333333,
              "#9c179e"
             ],
             [
              0.4444444444444444,
              "#bd3786"
             ],
             [
              0.5555555555555556,
              "#d8576b"
             ],
             [
              0.6666666666666666,
              "#ed7953"
             ],
             [
              0.7777777777777778,
              "#fb9f3a"
             ],
             [
              0.8888888888888888,
              "#fdca26"
             ],
             [
              1,
              "#f0f921"
             ]
            ],
            "type": "surface"
           }
          ],
          "table": [
           {
            "cells": {
             "fill": {
              "color": "#EBF0F8"
             },
             "line": {
              "color": "white"
             }
            },
            "header": {
             "fill": {
              "color": "#C8D4E3"
             },
             "line": {
              "color": "white"
             }
            },
            "type": "table"
           }
          ]
         },
         "layout": {
          "annotationdefaults": {
           "arrowcolor": "#2a3f5f",
           "arrowhead": 0,
           "arrowwidth": 1
          },
          "coloraxis": {
           "colorbar": {
            "outlinewidth": 0,
            "ticks": ""
           }
          },
          "colorscale": {
           "diverging": [
            [
             0,
             "#8e0152"
            ],
            [
             0.1,
             "#c51b7d"
            ],
            [
             0.2,
             "#de77ae"
            ],
            [
             0.3,
             "#f1b6da"
            ],
            [
             0.4,
             "#fde0ef"
            ],
            [
             0.5,
             "#f7f7f7"
            ],
            [
             0.6,
             "#e6f5d0"
            ],
            [
             0.7,
             "#b8e186"
            ],
            [
             0.8,
             "#7fbc41"
            ],
            [
             0.9,
             "#4d9221"
            ],
            [
             1,
             "#276419"
            ]
           ],
           "sequential": [
            [
             0,
             "#0d0887"
            ],
            [
             0.1111111111111111,
             "#46039f"
            ],
            [
             0.2222222222222222,
             "#7201a8"
            ],
            [
             0.3333333333333333,
             "#9c179e"
            ],
            [
             0.4444444444444444,
             "#bd3786"
            ],
            [
             0.5555555555555556,
             "#d8576b"
            ],
            [
             0.6666666666666666,
             "#ed7953"
            ],
            [
             0.7777777777777778,
             "#fb9f3a"
            ],
            [
             0.8888888888888888,
             "#fdca26"
            ],
            [
             1,
             "#f0f921"
            ]
           ],
           "sequentialminus": [
            [
             0,
             "#0d0887"
            ],
            [
             0.1111111111111111,
             "#46039f"
            ],
            [
             0.2222222222222222,
             "#7201a8"
            ],
            [
             0.3333333333333333,
             "#9c179e"
            ],
            [
             0.4444444444444444,
             "#bd3786"
            ],
            [
             0.5555555555555556,
             "#d8576b"
            ],
            [
             0.6666666666666666,
             "#ed7953"
            ],
            [
             0.7777777777777778,
             "#fb9f3a"
            ],
            [
             0.8888888888888888,
             "#fdca26"
            ],
            [
             1,
             "#f0f921"
            ]
           ]
          },
          "colorway": [
           "#636efa",
           "#EF553B",
           "#00cc96",
           "#ab63fa",
           "#FFA15A",
           "#19d3f3",
           "#FF6692",
           "#B6E880",
           "#FF97FF",
           "#FECB52"
          ],
          "font": {
           "color": "#2a3f5f"
          },
          "geo": {
           "bgcolor": "white",
           "lakecolor": "white",
           "landcolor": "#E5ECF6",
           "showlakes": true,
           "showland": true,
           "subunitcolor": "white"
          },
          "hoverlabel": {
           "align": "left"
          },
          "hovermode": "closest",
          "mapbox": {
           "style": "light"
          },
          "paper_bgcolor": "white",
          "plot_bgcolor": "#E5ECF6",
          "polar": {
           "angularaxis": {
            "gridcolor": "white",
            "linecolor": "white",
            "ticks": ""
           },
           "bgcolor": "#E5ECF6",
           "radialaxis": {
            "gridcolor": "white",
            "linecolor": "white",
            "ticks": ""
           }
          },
          "scene": {
           "xaxis": {
            "backgroundcolor": "#E5ECF6",
            "gridcolor": "white",
            "gridwidth": 2,
            "linecolor": "white",
            "showbackground": true,
            "ticks": "",
            "zerolinecolor": "white"
           },
           "yaxis": {
            "backgroundcolor": "#E5ECF6",
            "gridcolor": "white",
            "gridwidth": 2,
            "linecolor": "white",
            "showbackground": true,
            "ticks": "",
            "zerolinecolor": "white"
           },
           "zaxis": {
            "backgroundcolor": "#E5ECF6",
            "gridcolor": "white",
            "gridwidth": 2,
            "linecolor": "white",
            "showbackground": true,
            "ticks": "",
            "zerolinecolor": "white"
           }
          },
          "shapedefaults": {
           "line": {
            "color": "#2a3f5f"
           }
          },
          "ternary": {
           "aaxis": {
            "gridcolor": "white",
            "linecolor": "white",
            "ticks": ""
           },
           "baxis": {
            "gridcolor": "white",
            "linecolor": "white",
            "ticks": ""
           },
           "bgcolor": "#E5ECF6",
           "caxis": {
            "gridcolor": "white",
            "linecolor": "white",
            "ticks": ""
           }
          },
          "title": {
           "x": 0.05
          },
          "xaxis": {
           "automargin": true,
           "gridcolor": "white",
           "linecolor": "white",
           "ticks": "",
           "title": {
            "standoff": 15
           },
           "zerolinecolor": "white",
           "zerolinewidth": 2
          },
          "yaxis": {
           "automargin": true,
           "gridcolor": "white",
           "linecolor": "white",
           "ticks": "",
           "title": {
            "standoff": 15
           },
           "zerolinecolor": "white",
           "zerolinewidth": 2
          }
         }
        },
        "title": {
         "text": "Dynamiki cen mieszkań w Polsce (ceny transakcyjne, rynek pierwotny)"
        },
        "xaxis": {
         "anchor": "y",
         "domain": [
          0,
          1
         ],
         "matches": "x5",
         "showticklabels": false
        },
        "xaxis2": {
         "anchor": "y2",
         "domain": [
          0,
          1
         ],
         "matches": "x5",
         "showticklabels": false
        },
        "xaxis3": {
         "anchor": "y3",
         "domain": [
          0,
          1
         ],
         "matches": "x5",
         "showticklabels": false
        },
        "xaxis4": {
         "anchor": "y4",
         "domain": [
          0,
          1
         ],
         "matches": "x5",
         "showticklabels": false
        },
        "xaxis5": {
         "anchor": "y5",
         "domain": [
          0,
          1
         ]
        },
        "yaxis": {
         "anchor": "x",
         "domain": [
          0.824,
          1
         ]
        },
        "yaxis2": {
         "anchor": "x2",
         "domain": [
          0.618,
          0.794
         ]
        },
        "yaxis3": {
         "anchor": "x3",
         "domain": [
          0.412,
          0.588
         ]
        },
        "yaxis4": {
         "anchor": "x4",
         "domain": [
          0.206,
          0.382
         ]
        },
        "yaxis5": {
         "anchor": "x5",
         "domain": [
          0,
          0.176
         ]
        }
       }
      },
      "text/html": [
       "<div>\n",
       "        \n",
       "        \n",
       "            <div id=\"ee6b62a6-105f-4453-bea6-b58b2482b965\" class=\"plotly-graph-div\" style=\"height:1500px; width:100%;\"></div>\n",
       "            <script type=\"text/javascript\">\n",
       "                require([\"plotly\"], function(Plotly) {\n",
       "                    window.PLOTLYENV=window.PLOTLYENV || {};\n",
       "                    \n",
       "                if (document.getElementById(\"ee6b62a6-105f-4453-bea6-b58b2482b965\")) {\n",
       "                    Plotly.newPlot(\n",
       "                        'ee6b62a6-105f-4453-bea6-b58b2482b965',\n",
       "                        [{\"name\": \"Warszawa\", \"type\": \"bar\", \"x\": [\"III 2007\", \"IV 2007\", \"I 2008\", \"II 2008\", \"III 2008\", \"IV 2008\", \"I 2009\", \"II 2009\", \"III 2009\", \"IV 2009\", \"I 2010\", \"II 2010\", \"III 2010\", \"IV 2010\", \"I 2011\", \"II 2011\", \"III 2011\", \"IV 2011\", \"I 2012\", \"II 2012\", \"III 2012\", \"IV 2012\", \"I 2013\", \"II 2013\", \"III 2013\", \"IV 2013\", \"I 2014\", \"II 2014\", \"III 2014\", \"IV 2014\", \"I 2015\", \"II 2015\", \"III 2015\", \"IV 2015\", \"I 2016\", \"II 2016\", \"III 2016\", \"IV 2016\", \"I 2017\", \"II 2017\", \"III 2017\", \"IV 2017\", \"I 2018\", \"II 2018\", \"III 2018\", \"IV 2018\", \"I 2019\", \"II 2019\", \"III 2019\", \"IV 2019\", \"I 2020\"], \"xaxis\": \"x\", \"y\": [40.57, 38.55, 16.89, 14.46, 5.66, -4.92, -11.62, -13.36, -8.89, -5.76, 8.35, 6.87, 4.68, -3.11, -1.67, -5.61, -6.52, -2.89, -13.32, -6.43, -8.97, -10.51, 0.33, -0.35, 6.16, 14.87, 4.42, 4.24, 3.8, -1.52, 1.33, 2.66, 1.5, 2.01, 3.3, 0.97, 1.84, 3.0, -1.01, 1.31, 1.61, 0.84, 5.33, 6.51, 9.18, 10.5, 10.12, 9.16, 7.62, 10.64, 11.94], \"yaxis\": \"y\"}, {\"name\": \"Gda\\u0144sk\", \"type\": \"bar\", \"x\": [\"III 2007\", \"IV 2007\", \"I 2008\", \"II 2008\", \"III 2008\", \"IV 2008\", \"I 2009\", \"II 2009\", \"III 2009\", \"IV 2009\", \"I 2010\", \"II 2010\", \"III 2010\", \"IV 2010\", \"I 2011\", \"II 2011\", \"III 2011\", \"IV 2011\", \"I 2012\", \"II 2012\", \"III 2012\", \"IV 2012\", \"I 2013\", \"II 2013\", \"III 2013\", \"IV 2013\", \"I 2014\", \"II 2014\", \"III 2014\", \"IV 2014\", \"I 2015\", \"II 2015\", \"III 2015\", \"IV 2015\", \"I 2016\", \"II 2016\", \"III 2016\", \"IV 2016\", \"I 2017\", \"II 2017\", \"III 2017\", \"IV 2017\", \"I 2018\", \"II 2018\", \"III 2018\", \"IV 2018\", \"I 2019\", \"II 2019\", \"III 2019\", \"IV 2019\", \"I 2020\"], \"xaxis\": \"x2\", \"y\": [112.94, 19.84, 17.91, 8.45, -5.35, -1.6, -17.98, -23.68, -17.58, -11.58, 9.99, -3.88, -9.17, -4.75, -2.53, -0.29, 3.93, 5.56, -1.72, -1.0, 1.38, -3.09, -5.4, 1.38, 4.32, 15.35, 3.95, 5.19, 0.18, -6.01, 8.18, -3.81, 4.89, 4.25, 8.42, 7.59, 3.19, 7.47, -0.33, 5.1, 8.48, 5.37, 12.82, 16.04, 6.46, 15.89, 13.89, 9.87, 17.6, 8.47, 5.8], \"yaxis\": \"y2\"}, {\"name\": \"Lublin\", \"type\": \"bar\", \"x\": [\"III 2007\", \"IV 2007\", \"I 2008\", \"II 2008\", \"III 2008\", \"IV 2008\", \"I 2009\", \"II 2009\", \"III 2009\", \"IV 2009\", \"I 2010\", \"II 2010\", \"III 2010\", \"IV 2010\", \"I 2011\", \"II 2011\", \"III 2011\", \"IV 2011\", \"I 2012\", \"II 2012\", \"III 2012\", \"IV 2012\", \"I 2013\", \"II 2013\", \"III 2013\", \"IV 2013\", \"I 2014\", \"II 2014\", \"III 2014\", \"IV 2014\", \"I 2015\", \"II 2015\", \"III 2015\", \"IV 2015\", \"I 2016\", \"II 2016\", \"III 2016\", \"IV 2016\", \"I 2017\", \"II 2017\", \"III 2017\", \"IV 2017\", \"I 2018\", \"II 2018\", \"III 2018\", \"IV 2018\", \"I 2019\", \"II 2019\", \"III 2019\", \"IV 2019\", \"I 2020\"], \"xaxis\": \"x3\", \"y\": [36.5, 39.13, 46.9, 29.35, 22.98, 13.49, -2.37, 3.58, -12.54, -7.42, -5.29, -3.37, 8.65, -0.23, 8.92, 6.44, 6.47, -3.63, 0.8, 1.64, -5.24, 1.18, -5.19, 0.75, -1.93, 2.06, -0.77, -0.53, 1.53, 3.57, 5.97, 1.28, 3.59, -1.09, 1.52, 1.1, -0.82, 6.09, 2.0, -1.63, 5.37, -2.28, 7.42, 10.62, 5.76, 13.59, 7.33, 6.81, 11.06, 3.33, 1.71], \"yaxis\": \"y3\"}, {\"name\": \"7 miast\", \"type\": \"bar\", \"x\": [\"III 2007\", \"IV 2007\", \"I 2008\", \"II 2008\", \"III 2008\", \"IV 2008\", \"I 2009\", \"II 2009\", \"III 2009\", \"IV 2009\", \"I 2010\", \"II 2010\", \"III 2010\", \"IV 2010\", \"I 2011\", \"II 2011\", \"III 2011\", \"IV 2011\", \"I 2012\", \"II 2012\", \"III 2012\", \"IV 2012\", \"I 2013\", \"II 2013\", \"III 2013\", \"IV 2013\", \"I 2014\", \"II 2014\", \"III 2014\", \"IV 2014\", \"I 2015\", \"II 2015\", \"III 2015\", \"IV 2015\", \"I 2016\", \"II 2016\", \"III 2016\", \"IV 2016\", \"I 2017\", \"II 2017\", \"III 2017\", \"IV 2017\", \"I 2018\", \"II 2018\", \"III 2018\", \"IV 2018\", \"I 2019\", \"II 2019\", \"III 2019\", \"IV 2019\", \"I 2020\"], \"xaxis\": \"x4\", \"y\": [96.77, 50.2, 16.0, -0.88, 4.5, -12.91, -12.12, -3.02, -11.93, -5.61, 3.27, 4.04, 2.8, -0.98, 0.39, 0.06, 0.03, -1.19, -9.62, -7.23, -8.71, -8.56, -2.84, -2.11, 2.03, 6.46, 2.73, 1.4, 1.44, -1.6, 1.79, 1.6, 2.68, 3.94, 3.42, 2.64, 1.42, 3.16, 0.81, 2.56, 4.5, 2.51, 6.14, 6.59, 6.78, 10.19, 9.94, 10.31, 9.26, 9.28, 10.84], \"yaxis\": \"y4\"}, {\"name\": \"6 miast bez Warszawy\", \"type\": \"bar\", \"x\": [\"III 2007\", \"IV 2007\", \"I 2008\", \"II 2008\", \"III 2008\", \"IV 2008\", \"I 2009\", \"II 2009\", \"III 2009\", \"IV 2009\", \"I 2010\", \"II 2010\", \"III 2010\", \"IV 2010\", \"I 2011\", \"II 2011\", \"III 2011\", \"IV 2011\", \"I 2012\", \"II 2012\", \"III 2012\", \"IV 2012\", \"I 2013\", \"II 2013\", \"III 2013\", \"IV 2013\", \"I 2014\", \"II 2014\", \"III 2014\", \"IV 2014\", \"I 2015\", \"II 2015\", \"III 2015\", \"IV 2015\", \"I 2016\", \"II 2016\", \"III 2016\", \"IV 2016\", \"I 2017\", \"II 2017\", \"III 2017\", \"IV 2017\", \"I 2018\", \"II 2018\", \"III 2018\", \"IV 2018\", \"I 2019\", \"II 2019\", \"III 2019\", \"IV 2019\", \"I 2020\"], \"xaxis\": \"x5\", \"y\": [56.11, 37.19, 13.32, 0.84, 4.16, -5.3, -11.85, -9.96, -14.23, -5.44, -0.19, 2.01, 1.43, 0.46, 1.92, 4.2, 4.86, -0.07, -6.68, -7.77, -8.55, -7.26, -5.56, -3.44, -1.05, 0.58, 2.13, 0.05, 0.37, -1.04, 1.7, 0.39, 3.39, 5.01, 3.42, 3.68, 0.98, 3.19, 2.34, 3.62, 6.62, 3.95, 6.7, 6.65, 5.17, 9.87, 9.72, 11.1, 10.37, 8.48, 10.05], \"yaxis\": \"y5\"}],\n",
       "                        {\"annotations\": [{\"font\": {\"size\": 16}, \"showarrow\": false, \"text\": \"Warszawa\", \"x\": 0.5, \"xanchor\": \"center\", \"xref\": \"paper\", \"y\": 1.0, \"yanchor\": \"bottom\", \"yref\": \"paper\"}, {\"font\": {\"size\": 16}, \"showarrow\": false, \"text\": \"Gda\\u0144sk\", \"x\": 0.5, \"xanchor\": \"center\", \"xref\": \"paper\", \"y\": 0.794, \"yanchor\": \"bottom\", \"yref\": \"paper\"}, {\"font\": {\"size\": 16}, \"showarrow\": false, \"text\": \"Lublin\", \"x\": 0.5, \"xanchor\": \"center\", \"xref\": \"paper\", \"y\": 0.588, \"yanchor\": \"bottom\", \"yref\": \"paper\"}, {\"font\": {\"size\": 16}, \"showarrow\": false, \"text\": \"7 miast\", \"x\": 0.5, \"xanchor\": \"center\", \"xref\": \"paper\", \"y\": 0.382, \"yanchor\": \"bottom\", \"yref\": \"paper\"}, {\"font\": {\"size\": 16}, \"showarrow\": false, \"text\": \"6 miast bez Warszawy\", \"x\": 0.5, \"xanchor\": \"center\", \"xref\": \"paper\", \"y\": 0.176, \"yanchor\": \"bottom\", \"yref\": \"paper\"}], \"height\": 1500, \"showlegend\": false, \"template\": {\"data\": {\"bar\": [{\"error_x\": {\"color\": \"#2a3f5f\"}, \"error_y\": {\"color\": \"#2a3f5f\"}, \"marker\": {\"line\": {\"color\": \"#E5ECF6\", \"width\": 0.5}}, \"type\": \"bar\"}], \"barpolar\": [{\"marker\": {\"line\": {\"color\": \"#E5ECF6\", \"width\": 0.5}}, \"type\": \"barpolar\"}], \"carpet\": [{\"aaxis\": {\"endlinecolor\": \"#2a3f5f\", \"gridcolor\": \"white\", \"linecolor\": \"white\", \"minorgridcolor\": \"white\", \"startlinecolor\": \"#2a3f5f\"}, \"baxis\": {\"endlinecolor\": \"#2a3f5f\", \"gridcolor\": \"white\", \"linecolor\": \"white\", \"minorgridcolor\": \"white\", \"startlinecolor\": \"#2a3f5f\"}, \"type\": \"carpet\"}], \"choropleth\": [{\"colorbar\": {\"outlinewidth\": 0, \"ticks\": \"\"}, \"type\": \"choropleth\"}], \"contour\": [{\"colorbar\": {\"outlinewidth\": 0, \"ticks\": \"\"}, \"colorscale\": [[0.0, \"#0d0887\"], [0.1111111111111111, \"#46039f\"], [0.2222222222222222, \"#7201a8\"], [0.3333333333333333, \"#9c179e\"], [0.4444444444444444, \"#bd3786\"], [0.5555555555555556, \"#d8576b\"], [0.6666666666666666, \"#ed7953\"], [0.7777777777777778, \"#fb9f3a\"], [0.8888888888888888, \"#fdca26\"], [1.0, \"#f0f921\"]], \"type\": \"contour\"}], \"contourcarpet\": [{\"colorbar\": {\"outlinewidth\": 0, \"ticks\": \"\"}, \"type\": \"contourcarpet\"}], \"heatmap\": [{\"colorbar\": {\"outlinewidth\": 0, \"ticks\": \"\"}, \"colorscale\": [[0.0, \"#0d0887\"], [0.1111111111111111, \"#46039f\"], [0.2222222222222222, \"#7201a8\"], [0.3333333333333333, \"#9c179e\"], [0.4444444444444444, \"#bd3786\"], [0.5555555555555556, \"#d8576b\"], [0.6666666666666666, \"#ed7953\"], [0.7777777777777778, \"#fb9f3a\"], [0.8888888888888888, \"#fdca26\"], [1.0, \"#f0f921\"]], \"type\": \"heatmap\"}], \"heatmapgl\": [{\"colorbar\": {\"outlinewidth\": 0, \"ticks\": \"\"}, \"colorscale\": [[0.0, \"#0d0887\"], [0.1111111111111111, \"#46039f\"], [0.2222222222222222, \"#7201a8\"], [0.3333333333333333, \"#9c179e\"], [0.4444444444444444, \"#bd3786\"], [0.5555555555555556, \"#d8576b\"], [0.6666666666666666, \"#ed7953\"], [0.7777777777777778, \"#fb9f3a\"], [0.8888888888888888, \"#fdca26\"], [1.0, \"#f0f921\"]], \"type\": \"heatmapgl\"}], \"histogram\": [{\"marker\": {\"colorbar\": {\"outlinewidth\": 0, \"ticks\": \"\"}}, \"type\": \"histogram\"}], \"histogram2d\": [{\"colorbar\": {\"outlinewidth\": 0, \"ticks\": \"\"}, \"colorscale\": [[0.0, \"#0d0887\"], [0.1111111111111111, \"#46039f\"], [0.2222222222222222, \"#7201a8\"], [0.3333333333333333, \"#9c179e\"], [0.4444444444444444, \"#bd3786\"], [0.5555555555555556, \"#d8576b\"], [0.6666666666666666, \"#ed7953\"], [0.7777777777777778, \"#fb9f3a\"], [0.8888888888888888, \"#fdca26\"], [1.0, \"#f0f921\"]], \"type\": \"histogram2d\"}], \"histogram2dcontour\": [{\"colorbar\": {\"outlinewidth\": 0, \"ticks\": \"\"}, \"colorscale\": [[0.0, \"#0d0887\"], [0.1111111111111111, \"#46039f\"], [0.2222222222222222, \"#7201a8\"], [0.3333333333333333, \"#9c179e\"], [0.4444444444444444, \"#bd3786\"], [0.5555555555555556, \"#d8576b\"], [0.6666666666666666, \"#ed7953\"], [0.7777777777777778, \"#fb9f3a\"], [0.8888888888888888, \"#fdca26\"], [1.0, \"#f0f921\"]], \"type\": \"histogram2dcontour\"}], \"mesh3d\": [{\"colorbar\": {\"outlinewidth\": 0, \"ticks\": \"\"}, \"type\": \"mesh3d\"}], \"parcoords\": [{\"line\": {\"colorbar\": {\"outlinewidth\": 0, \"ticks\": \"\"}}, \"type\": \"parcoords\"}], \"pie\": [{\"automargin\": true, \"type\": \"pie\"}], \"scatter\": [{\"marker\": {\"colorbar\": {\"outlinewidth\": 0, \"ticks\": \"\"}}, \"type\": \"scatter\"}], \"scatter3d\": [{\"line\": {\"colorbar\": {\"outlinewidth\": 0, \"ticks\": \"\"}}, \"marker\": {\"colorbar\": {\"outlinewidth\": 0, \"ticks\": \"\"}}, \"type\": \"scatter3d\"}], \"scattercarpet\": [{\"marker\": {\"colorbar\": {\"outlinewidth\": 0, \"ticks\": \"\"}}, \"type\": \"scattercarpet\"}], \"scattergeo\": [{\"marker\": {\"colorbar\": {\"outlinewidth\": 0, \"ticks\": \"\"}}, \"type\": \"scattergeo\"}], \"scattergl\": [{\"marker\": {\"colorbar\": {\"outlinewidth\": 0, \"ticks\": \"\"}}, \"type\": \"scattergl\"}], \"scattermapbox\": [{\"marker\": {\"colorbar\": {\"outlinewidth\": 0, \"ticks\": \"\"}}, \"type\": \"scattermapbox\"}], \"scatterpolar\": [{\"marker\": {\"colorbar\": {\"outlinewidth\": 0, \"ticks\": \"\"}}, \"type\": \"scatterpolar\"}], \"scatterpolargl\": [{\"marker\": {\"colorbar\": {\"outlinewidth\": 0, \"ticks\": \"\"}}, \"type\": \"scatterpolargl\"}], \"scatterternary\": [{\"marker\": {\"colorbar\": {\"outlinewidth\": 0, \"ticks\": \"\"}}, \"type\": \"scatterternary\"}], \"surface\": [{\"colorbar\": {\"outlinewidth\": 0, \"ticks\": \"\"}, \"colorscale\": [[0.0, \"#0d0887\"], [0.1111111111111111, \"#46039f\"], [0.2222222222222222, \"#7201a8\"], [0.3333333333333333, \"#9c179e\"], [0.4444444444444444, \"#bd3786\"], [0.5555555555555556, \"#d8576b\"], [0.6666666666666666, \"#ed7953\"], [0.7777777777777778, \"#fb9f3a\"], [0.8888888888888888, \"#fdca26\"], [1.0, \"#f0f921\"]], \"type\": \"surface\"}], \"table\": [{\"cells\": {\"fill\": {\"color\": \"#EBF0F8\"}, \"line\": {\"color\": \"white\"}}, \"header\": {\"fill\": {\"color\": \"#C8D4E3\"}, \"line\": {\"color\": \"white\"}}, \"type\": \"table\"}]}, \"layout\": {\"annotationdefaults\": {\"arrowcolor\": \"#2a3f5f\", \"arrowhead\": 0, \"arrowwidth\": 1}, \"coloraxis\": {\"colorbar\": {\"outlinewidth\": 0, \"ticks\": \"\"}}, \"colorscale\": {\"diverging\": [[0, \"#8e0152\"], [0.1, \"#c51b7d\"], [0.2, \"#de77ae\"], [0.3, \"#f1b6da\"], [0.4, \"#fde0ef\"], [0.5, \"#f7f7f7\"], [0.6, \"#e6f5d0\"], [0.7, \"#b8e186\"], [0.8, \"#7fbc41\"], [0.9, \"#4d9221\"], [1, \"#276419\"]], \"sequential\": [[0.0, \"#0d0887\"], [0.1111111111111111, \"#46039f\"], [0.2222222222222222, \"#7201a8\"], [0.3333333333333333, \"#9c179e\"], [0.4444444444444444, \"#bd3786\"], [0.5555555555555556, \"#d8576b\"], [0.6666666666666666, \"#ed7953\"], [0.7777777777777778, \"#fb9f3a\"], [0.8888888888888888, \"#fdca26\"], [1.0, \"#f0f921\"]], \"sequentialminus\": [[0.0, \"#0d0887\"], [0.1111111111111111, \"#46039f\"], [0.2222222222222222, \"#7201a8\"], [0.3333333333333333, \"#9c179e\"], [0.4444444444444444, \"#bd3786\"], [0.5555555555555556, \"#d8576b\"], [0.6666666666666666, \"#ed7953\"], [0.7777777777777778, \"#fb9f3a\"], [0.8888888888888888, \"#fdca26\"], [1.0, \"#f0f921\"]]}, \"colorway\": [\"#636efa\", \"#EF553B\", \"#00cc96\", \"#ab63fa\", \"#FFA15A\", \"#19d3f3\", \"#FF6692\", \"#B6E880\", \"#FF97FF\", \"#FECB52\"], \"font\": {\"color\": \"#2a3f5f\"}, \"geo\": {\"bgcolor\": \"white\", \"lakecolor\": \"white\", \"landcolor\": \"#E5ECF6\", \"showlakes\": true, \"showland\": true, \"subunitcolor\": \"white\"}, \"hoverlabel\": {\"align\": \"left\"}, \"hovermode\": \"closest\", \"mapbox\": {\"style\": \"light\"}, \"paper_bgcolor\": \"white\", \"plot_bgcolor\": \"#E5ECF6\", \"polar\": {\"angularaxis\": {\"gridcolor\": \"white\", \"linecolor\": \"white\", \"ticks\": \"\"}, \"bgcolor\": \"#E5ECF6\", \"radialaxis\": {\"gridcolor\": \"white\", \"linecolor\": \"white\", \"ticks\": \"\"}}, \"scene\": {\"xaxis\": {\"backgroundcolor\": \"#E5ECF6\", \"gridcolor\": \"white\", \"gridwidth\": 2, \"linecolor\": \"white\", \"showbackground\": true, \"ticks\": \"\", \"zerolinecolor\": \"white\"}, \"yaxis\": {\"backgroundcolor\": \"#E5ECF6\", \"gridcolor\": \"white\", \"gridwidth\": 2, \"linecolor\": \"white\", \"showbackground\": true, \"ticks\": \"\", \"zerolinecolor\": \"white\"}, \"zaxis\": {\"backgroundcolor\": \"#E5ECF6\", \"gridcolor\": \"white\", \"gridwidth\": 2, \"linecolor\": \"white\", \"showbackground\": true, \"ticks\": \"\", \"zerolinecolor\": \"white\"}}, \"shapedefaults\": {\"line\": {\"color\": \"#2a3f5f\"}}, \"ternary\": {\"aaxis\": {\"gridcolor\": \"white\", \"linecolor\": \"white\", \"ticks\": \"\"}, \"baxis\": {\"gridcolor\": \"white\", \"linecolor\": \"white\", \"ticks\": \"\"}, \"bgcolor\": \"#E5ECF6\", \"caxis\": {\"gridcolor\": \"white\", \"linecolor\": \"white\", \"ticks\": \"\"}}, \"title\": {\"x\": 0.05}, \"xaxis\": {\"automargin\": true, \"gridcolor\": \"white\", \"linecolor\": \"white\", \"ticks\": \"\", \"title\": {\"standoff\": 15}, \"zerolinecolor\": \"white\", \"zerolinewidth\": 2}, \"yaxis\": {\"automargin\": true, \"gridcolor\": \"white\", \"linecolor\": \"white\", \"ticks\": \"\", \"title\": {\"standoff\": 15}, \"zerolinecolor\": \"white\", \"zerolinewidth\": 2}}}, \"title\": {\"text\": \"Dynamiki cen mieszka\\u0144 w Polsce (ceny transakcyjne, rynek pierwotny)\"}, \"xaxis\": {\"anchor\": \"y\", \"domain\": [0.0, 1.0], \"matches\": \"x5\", \"showticklabels\": false}, \"xaxis2\": {\"anchor\": \"y2\", \"domain\": [0.0, 1.0], \"matches\": \"x5\", \"showticklabels\": false}, \"xaxis3\": {\"anchor\": \"y3\", \"domain\": [0.0, 1.0], \"matches\": \"x5\", \"showticklabels\": false}, \"xaxis4\": {\"anchor\": \"y4\", \"domain\": [0.0, 1.0], \"matches\": \"x5\", \"showticklabels\": false}, \"xaxis5\": {\"anchor\": \"y5\", \"domain\": [0.0, 1.0]}, \"yaxis\": {\"anchor\": \"x\", \"domain\": [0.824, 1.0]}, \"yaxis2\": {\"anchor\": \"x2\", \"domain\": [0.618, 0.794]}, \"yaxis3\": {\"anchor\": \"x3\", \"domain\": [0.412, 0.588]}, \"yaxis4\": {\"anchor\": \"x4\", \"domain\": [0.206, 0.382]}, \"yaxis5\": {\"anchor\": \"x5\", \"domain\": [0.0, 0.176]}},\n",
       "                        {\"responsive\": true}\n",
       "                    ).then(function(){\n",
       "                            \n",
       "var gd = document.getElementById('ee6b62a6-105f-4453-bea6-b58b2482b965');\n",
       "var x = new MutationObserver(function (mutations, observer) {{\n",
       "        var display = window.getComputedStyle(gd).display;\n",
       "        if (!display || display === 'none') {{\n",
       "            console.log([gd, 'removed!']);\n",
       "            Plotly.purge(gd);\n",
       "            observer.disconnect();\n",
       "        }}\n",
       "}});\n",
       "\n",
       "// Listen for the removal of the full notebook cells\n",
       "var notebookContainer = gd.closest('#notebook-container');\n",
       "if (notebookContainer) {{\n",
       "    x.observe(notebookContainer, {childList: true});\n",
       "}}\n",
       "\n",
       "// Listen for the clearing of the current output cell\n",
       "var outputEl = gd.closest('.output');\n",
       "if (outputEl) {{\n",
       "    x.observe(outputEl, {childList: true});\n",
       "}}\n",
       "\n",
       "                        })\n",
       "                };\n",
       "                });\n",
       "            </script>\n",
       "        </div>"
      ]
     },
     "metadata": {},
     "output_type": "display_data"
    }
   ],
   "source": [
    "fig = make_subplots(rows=len(MIASTA), cols=1, subplot_titles = MIASTA, shared_xaxes=True, vertical_spacing = 0.03)\n",
    "for _counter, _miasto in enumerate(MIASTA):\n",
    "    fig.add_trace(go.Bar(x = dane_dyn['Kwartał'].values,\n",
    "                         y = dane_dyn[_miasto].values,\n",
    "                         name = _miasto),\n",
    "                  row = _counter + 1, col=1)\n",
    "fig.update_layout(height = 300 * len(MIASTA), showlegend = False,\n",
    "                  title='Dynamiki cen mieszkań w Polsce (ceny ' + CENY + ', rynek ' + RYNEK + ')')\n",
    "fig.show()"
   ]
  },
  {
   "cell_type": "code",
   "execution_count": null,
   "metadata": {},
   "outputs": [],
   "source": []
  },
  {
   "cell_type": "code",
   "execution_count": null,
   "metadata": {},
   "outputs": [],
   "source": []
  }
 ],
 "metadata": {
  "kernelspec": {
   "display_name": "Python 3",
   "language": "python",
   "name": "python3"
  },
  "language_info": {
   "codemirror_mode": {
    "name": "ipython",
    "version": 3
   },
   "file_extension": ".py",
   "mimetype": "text/x-python",
   "name": "python",
   "nbconvert_exporter": "python",
   "pygments_lexer": "ipython3",
   "version": "3.7.7"
  }
 },
 "nbformat": 4,
 "nbformat_minor": 4
}
